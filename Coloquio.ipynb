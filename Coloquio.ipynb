{
  "nbformat": 4,
  "nbformat_minor": 0,
  "metadata": {
    "colab": {
      "name": "Coloquio.ipynb",
      "provenance": [],
      "collapsed_sections": [],
      "toc_visible": true,
      "include_colab_link": true
    },
    "kernelspec": {
      "name": "python3",
      "display_name": "Python 3"
    },
    "accelerator": "GPU"
  },
  "cells": [
    {
      "cell_type": "markdown",
      "metadata": {
        "id": "view-in-github",
        "colab_type": "text"
      },
      "source": [
        "<a href=\"https://colab.research.google.com/github/hebermudezg/Coloquio_2019_NLP/blob/master/Coloquio.ipynb\" target=\"_parent\"><img src=\"https://colab.research.google.com/assets/colab-badge.svg\" alt=\"Open In Colab\"/></a>"
      ]
    },
    {
      "cell_type": "markdown",
      "metadata": {
        "id": "65yfW_8eAtxR",
        "colab_type": "text"
      },
      "source": [
        "# NLP\n",
        "---\n",
        "\n",
        "El procesamiento del lenguaje natural (PNL) es una rama del aprendizaje automático que se ocupa del procesamiento, el análisis y, a veces, la generación del habla humana (\"lenguaje natural\").\n",
        "\n",
        "Se usa en:\n",
        "\n",
        "* chatbots \n",
        "* Anásis de sentimientos\n",
        "* Asistetes de voz\n",
        "\n",
        "SpaCy.\n",
        "---\n",
        "spaCy es una biblioteca de procesamiento de lenguaje natural de código abierto para Python. Está diseñado especialmente para uso en producción, y puede ayudarnos a crear aplicaciones que procesen volúmenes masivos de texto de manera eficiente"
      ]
    },
    {
      "cell_type": "markdown",
      "metadata": {
        "id": "vPz7FPNEyJ6c",
        "colab_type": "text"
      },
      "source": [
        "# Extracción del texto"
      ]
    },
    {
      "cell_type": "markdown",
      "metadata": {
        "id": "dwKti0NPyaTe",
        "colab_type": "text"
      },
      "source": [
        "### De la URL"
      ]
    },
    {
      "cell_type": "code",
      "metadata": {
        "id": "-JvB9UWxyIjR",
        "colab_type": "code",
        "colab": {}
      },
      "source": [
        "def extraer_link(URL):\n",
        "  #Importar librerias\n",
        "  import bs4 as bs # web scraping\n",
        "  import urllib.request #extraer de la web\n",
        "  # Extraemos texto de la url\n",
        "  link = urllib.request.urlopen(URL)\n",
        "  article = link.read() #para leer los datos\n",
        "  parsed_article = bs.BeautifulSoup(article,'lxml')\n",
        "  paragraphs = parsed_article.find_all('p')\n",
        "  origin_text = \"\"\n",
        "  for p in paragraphs:\n",
        "      origin_text += p.text\n",
        "  \n",
        "  return(origin_text)"
      ],
      "execution_count": 0,
      "outputs": []
    },
    {
      "cell_type": "code",
      "metadata": {
        "id": "mnKKbQz10IpG",
        "colab_type": "code",
        "colab": {}
      },
      "source": [
        "URL = \"https://www.biografiasyvidas.com/biografia/d/dali.htm\"\n",
        "crudo= extraer_link(URL)"
      ],
      "execution_count": 0,
      "outputs": []
    },
    {
      "cell_type": "markdown",
      "metadata": {
        "id": "ZS5y3lgSydt2",
        "colab_type": "text"
      },
      "source": [
        "### De un txt"
      ]
    },
    {
      "cell_type": "code",
      "metadata": {
        "id": "jsYRT0xEyxcp",
        "colab_type": "code",
        "colab": {}
      },
      "source": [
        "text_txt = open('frases.txt', 'r')"
      ],
      "execution_count": 0,
      "outputs": []
    },
    {
      "cell_type": "markdown",
      "metadata": {
        "id": "hPn58vl-fbV5",
        "colab_type": "text"
      },
      "source": [
        "# Limpieza tokenizando\n",
        "---"
      ]
    },
    {
      "cell_type": "code",
      "metadata": {
        "id": "yByLvpxN8eKC",
        "colab_type": "code",
        "colab": {}
      },
      "source": [
        "def Cleaner_text(text1):\n",
        "  #minusculas\n",
        "  text1 = text1.lower()\n",
        "  #quitar numeros\n",
        "  import re \n",
        "  text1 = re.sub (r'\\d+','', text1) \n",
        "  text1= re.sub(r'\\r\\n', '', text1)\n",
        "  text1=text1.replace('y', '')\n",
        "  #quitar puntuacion\n",
        "  text1 = re.sub(r'[^\\w\\s]','',text1)\n",
        "  # SpaCy\n",
        "  import spacy\n",
        "  from spacy.lang.es import Spanish\n",
        "  from spacy.tokenizer import Tokenizer\n",
        "  nlp2 = Spanish()\n",
        "\n",
        "# nlp es usado para crear docuementos con anotaciones linguisticas \n",
        "  doc = nlp2(text1)\n",
        "\n",
        "# Creamos una lista de tokens\n",
        "  token_list = []\n",
        "  for token in doc:\n",
        "      token_list.append(token.text)\n",
        "# stop words\n",
        "  from spacy.lang.es.stop_words import STOP_WORDS\n",
        "  spacy_stopwords = spacy.lang.es.stop_words.STOP_WORDS\n",
        "  spacy_stopwords.add('y') #agregar y\n",
        "  spacy_stopwords.add('a') #agregar a\n",
        "  spacy_stopwords.add('e')\n",
        "\n",
        "  filtered_sent=[]\n",
        "# filtrando stop words\n",
        "  for word in doc:\n",
        "      if word.is_stop==False:\n",
        "          filtered_sent.append(word)\n",
        "  return(filtered_sent)"
      ],
      "execution_count": 0,
      "outputs": []
    },
    {
      "cell_type": "code",
      "metadata": {
        "id": "GOxRBCqMftx-",
        "colab_type": "code",
        "outputId": "08818c19-e67a-408e-e6a9-fd3671ce1aa7",
        "colab": {
          "base_uri": "https://localhost:8080/",
          "height": 34
        }
      },
      "source": [
        "text1 = \"\"\"Un ejemplo de una Construcción \\r\\n en la calle 55-04 podemos ver techos tejados 123456 @$^&*() \"\"\"\n",
        "Cleaner_text(text1)"
      ],
      "execution_count": 0,
      "outputs": [
        {
          "output_type": "execute_result",
          "data": {
            "text/plain": [
              "[construcción,  , calle,  , techos, tejados,   ]"
            ]
          },
          "metadata": {
            "tags": []
          },
          "execution_count": 32
        }
      ]
    },
    {
      "cell_type": "markdown",
      "metadata": {
        "id": "Gb3eW265HPV2",
        "colab_type": "text"
      },
      "source": [
        "# Limpieza sin Tokenizar"
      ]
    },
    {
      "cell_type": "code",
      "metadata": {
        "id": "Em5iwjMqJGru",
        "colab_type": "code",
        "colab": {}
      },
      "source": [
        "def Cleaner_text_sin_tok(text1):\n",
        "  #minusculas\n",
        "  text1 = text1.lower()\n",
        "  #quitar numeros\n",
        "  import re \n",
        "  text1 = re.sub (r'\\d+','', text1) \n",
        "  text1= re.sub(r'\\r\\n', '', text1)\n",
        "  text1=text1.replace('y', '')\n",
        "  #quitar puntuacion\n",
        "  text1 = re.sub(r'[^\\w\\s]','',text1)\n",
        "  # SpaCy\n",
        "  import spacy\n",
        "  from spacy.lang.es import Spanish\n",
        "  from spacy.tokenizer import Tokenizer\n",
        "  nlp2 = Spanish()\n",
        "\n",
        "# nlp es usado para crear docuementos con anotaciones linguisticas \n",
        "  doc = nlp2(text1)\n",
        "\n",
        "# Creamos una lista de tokens\n",
        "  token_list = []\n",
        "  for token in doc:\n",
        "      token_list.append(token.text)\n",
        "# stop words\n",
        "  from spacy.lang.es.stop_words import STOP_WORDS\n",
        "  spacy_stopwords = spacy.lang.es.stop_words.STOP_WORDS\n",
        "  spacy_stopwords.add('y') #agregar y\n",
        "  spacy_stopwords.add('a') #agregar a\n",
        "  spacy_stopwords.add('e')\n",
        "\n",
        "  filtered_sent=[]\n",
        "# filtrando stop words\n",
        "  for word in doc:\n",
        "      if word.is_stop==False:\n",
        "          filtered_sent.append(word)\n",
        "          \n",
        "  sentence = filtered_sent\n",
        "  sent_str = \"\"\n",
        "  \n",
        "#Reunir nuevamente el texto\n",
        "  for i in sentence:\n",
        "      sent_str += str(i) + \"  \"\n",
        "      sent_str = sent_str[:-1]\n",
        "\n",
        "#Quitar espacios en blanco repetidos    \n",
        "  text1 = \" \".join(sent_str.split())\n",
        "\n",
        "  return(text1)"
      ],
      "execution_count": 0,
      "outputs": []
    },
    {
      "cell_type": "code",
      "metadata": {
        "id": "XxedEJZKJnbZ",
        "colab_type": "code",
        "outputId": "dbd3accf-3724-43a6-f7cb-2a1887ae037c",
        "colab": {
          "base_uri": "https://localhost:8080/",
          "height": 54
        }
      },
      "source": [
        "text = Cleaner_text_sin_tok(crudo)\n",
        "text"
      ],
      "execution_count": 0,
      "outputs": [
        {
          "output_type": "execute_result",
          "data": {
            "text/plain": [
              "'figueres gerona pintor español inmenso prestigio popularidad gozó vida debió estrafalarias impostadas excentricidades salvador dalí acertó insuflar vida surrealismo europeo convertirse conocido representante confusas ideas estéticas llamado método paranoicocrítico decisivas impactantes composiciones trasladó magistral precisión técnica personalísimo universo onírico simbólico nítido luminoso profundamente inquietante perturbador salvador dalísalvador dalí nació madrugada primavera seno familia burguesa hijo notario bienpensante sensible dama aficionada pájaros años escribiría autobiografía vida secreta salvador dalí años quería cocinero quería napoleón ambición crecer llegar salvador dalí mu difícil medida acerco salvador dalí aleja puesto persecución incesante objetivo habría alcanzarse recodo biografía previsto hallara equilibrio paz dalí decidió excesivo interpretar numerosos personajes sublimar angustia pluralidad delirios humorísticos sórdidos definió perverso polimorfo rezagado anarquizante o blando débil repulsivo conquistar laboriosa imagen publicitaria salvar pruebas iniciáticas juego favorito infancia vestir traje re diez años autorretrata niño enfermo explora ventajas aparentar constitución frágil nerviosa precocidad sorprendente doce años descubre estilo impresionistas franceses impresionista catorce trabado conocimiento arte picasso cubista quince convertido editor revista studium dibuja brillantes pastiches sección titulada maestros pinturala residencia estudiantesen abandona cataluña natal traslada madrid ingresa academia bellas artes san fernando instalado residencia estudiantes amigo poeta granadino federico garcía lorca futuro cineasta surrealista luis buñuel distanciará irreversiblemente capital adopta extraordinario atuendo cabellos largos corbata desproporcionadamente grande capa arrastra pies luce camisa azul cielo adornada gemelos zafiro sujeta pelo redecilla lustra barniz óleo difícil presencia pase desapercibida revueltos conflictivos meses sufre desafortunado contratiempo academia bellas artes adscrito producen manifestaciones profesor dé comienzo discurso oficial desate violenta polémica salvador abandona sala autoridades creen gesto suo señal ataque rebelión deciden expulsarlo año figueres guardias vienen detenerlo pasa temporada cárcel persistencia memoria salida prisión recibirá alegrías prensa grabado padre regala visita excelente compañero residencia estudiantes madrid federico garcía lorca calurosas noches verano cadaqués lee familia dalí versos dramas recién compuestos mediterráneo garcía lorca redacta célebre oda salvador dalí publicada años revista occidente luis buñuel llegue cadaqués amigo salvador guión cinematográfico absolutamente atípico surgirá película extraña perro andaluz parísen dalí viaja parís año establece capital francesa relaciona pablo picasso joan miró auda une grupo surrealista lidera poeta andré breton expone galería goemans obtiene éxito originales imágenes cuadros objetos muestran irritante precisión parecen adentrarse profundidades psíquicas anormales revelar inconsciente alucinatorio cruel breton terminará expulsándolo movimiento años memorable sesión enjuiciamiento dalí compareció cubierto manta termómetro boca aparentando ficticiamente aquejado fiebre convirtiendo opresivo juicio ridícula farsa triple acusación enfrentarse dalí coquetear fascismos gala catolicismo delirante sentir pasión desmedida irrefrenable dinero precisamente alude célebre apodo anagramático motejado breton avida dolars acusación desagradar pintor proporcionaba secreto irónico placer musa compañera vida gala esposa surrealista poeta paul éluard dalí declaró románticamente amo gala madre padre picasso dinero gala dalísalvador dalí enamoró gala verano gozó mieles erotismo época pinta adecuación deseo placeres iluminados masturbador pintura atacada desgarrada fanático grupo puritano camelots du ro exposición obras galería goemans parís joven apasionada pareja refugia aísla costa azul pasando noches encerrados pequeña habitación hotel postigos cerradosenterado vida disoluta hijo artículo eugenio dors aparecido gaceta literaria padre dalí rompe relaciones vástago debió afectarlo o puesto época artista realiza obra célebre cuadro persistencia memoria blandos relojes cuelgan rama árbol borde pedestal misteriosa forma tendida vasta extensión plaael surrealismo dalinianoantes llegar parís artista exposición galerías dalmau barcelona obra transitado cubismo corrientes realistas muchacha ventana o cesta pan dalí incorporó grupo surrealista movimiento atravesaba momentos fuertes contradicciones internas vitalidad extravagancia joven promesa española resultó decisiva renovación proección grupo absorbió energías resultaron etapa apreciada obra teoría mejores cuadros fruto aplicación llamado método paranoicocrítico dalí definió sistema espontáneo conocimiento irracional basado asociación interpretativocrítica fenómenos delirantes metodología propugna alejamiento realidad física favor realidad mental gracias controlado alucinación sueño paranoico o irracional someterse lucidez interpretativa o crítica objetos vida cotidiana convierten iconos deseos temores humano obras siguiendo dictados teorías freudianas artista saca luz aspectos ocultos vida erótica fantasías deseos dalí pretendía telas fueran contempladas sueños pintados imágenes relojes blandos miembros hipertróficos sostenidos muletas elefantes patas zancudas citar conocidas expresión liberación obsesiones sexuales angustia muerte masturbador probablemente dalí relevantes teorizaciones tono provocador irónico exponía caso plasmación obsesiones personales motivo aglutina maor telas etapa sirvió técnicas realismo ilusionista convencional impactar público insólitas inquietantes visiones aluden directamente sexualidad masturbador museo nacional centro arte reina sofía madrid sentido obra paradigmática periodouna magnífica ilustración método cuadro titulado mercado esclavos busto evanescente voltaire fundación renoldsmorse cleveland rostro filósofo constituido figuras simultáneamente forman grupo humano término izquierda contempla escena mujer apoa mesa contenido fruteros mesa conjunto figuras participan mercado título tela mercado esclavos busto evanescente voltaire enigma museo nacional centro arte reina sofía madrid o múltiples reinterpretaciones delirantes famoso ángelus millet constituen excelentes ejemplos reiterado juego perversión significativa imagen obsesión paranoica aparente misticismo escena campesina latía presencia muerte llevó dalí pedir louvre realizara radiografía cuadro permitió ocupa carretilla contorno ataúd millet pintado originalmente confirmando intuición paranoicala consagración internacional años grupo bastaron dalí convirtiese figura surrealismo obra alcanzase considerable resonancia internacional viaja inseparable gala unidos desembarca presenta periodistas enorme pan cocido cocinero trasatlántico transportado erráticas manifestaciones duda asociar mito hitleriano teléfono lenin béisbol bromas absurdas tratan quitar hierro situación política amenazante años desata atroz guerra civil españa primeras muestras probidad militares insurrectos infame asesinato amigo federico garcía lorca crimen conmocionó opinión pública mundial dalí escribió lorca personalidad vender suficiente fusilado español conoce gracias escritor vienés stefan zweig sigmund freud inspirador estética surrealista dalí siente marginado pese bravatas breton contrario único genuino exponente movimiento padre psicoanálisis pábulo indagación inconsciente libro interpretación sueños tomado serio jóvenes admiradores parís obstante julio encuentro freud anotó diario sentía tentado considerar surrealistas aparentemente elegido santo patrón locos integrales digamos alcohol puro joven español espléndidos ojos fanático innegable dominio técnico movió reconsiderar opinión artista asombrosos alucinantes retratos santo patrón surrealistas premonición guerra civil instalado ork dalí acepta encargo decorar escaparates comerciales tema elige noche evocado maniquí mete bañera peluda brasas paños negros extendidos dirección modifica decorado consultar autor dalí iracundo vuelca bañera astracán llena agua lanza cristales escaparate produciendo estrépito notable destrozo pese opinión pública norteamericana aplaude vigor sabido defender propiedad intelectual juzgado tribunales condenado pagar desperfectos concluir proecto decorar pabellón feria internacional ork debía significativo título sueño venus desarrollo guerra civil española cuo estallido intuido construcción blanda judías hervidas titulado premonición guerra civil presagio guerra mundial provocado dalí deseo refugiarse mundo conflictos sublimó experiencia surrealista retomando iconografía renacentista interesándose económico cuadros convirtió avida dolars breton reordenando letras nombre bautizado particular relevancia evolución obra resulta viaje italia contacto directo clásicos adquirió gusto temas religiosos técnica academicista seguiría aplicando obstante onírico extraño destacarse ejemplos lienzos madonna port lligat museo minami tokio crucifixión museo metropolitano ork cena national galler washington pintor producía enorme cantidad objetos decorativos carentes fuerza transgresora primeras obras surrealistasdetalle cena añosen regresó españa fijando residencia port lligat hallando régimen francisco franco suerte facilidades gobierno declaró rincón catalán fascinaba pintor paraje pintoresco interés nacional historiadores arte obra quedaban cuarenta años caprichosa producción irreductible endiosamiento exhibicionismo apariciones públicas estilo protagonizó diciembre personó universidad sorbona parís conferencia rolls roce repleto coliflores vida artista fundó museo dalí figueres escenográfico abigarrado extraño monumento proverbial egolatría museos visitados españa años setenta dalí declarado pintura fotografía hecha mano avalador estilo hiperrealista internacional saliendo paleta resultó inquietante prolija indagación ilimitado equívoco universo onírico recuerda cuadros repulsivo bigote engominado falta afirme haberlo visto liceo lujoso teatro ópera barcelona elegantemente ataviado frac luciendo bolsillo pechera guisa vistoso pañuelo fláccida tortilla francesa testamento controvertido artista legaba patrimonio español provocando muerte acaecida larga agonía enconadas polémicas novelista italo calvino escribió falsificable inconsciente acaso paradójica antifreudiana lección creador método paranoicocrítico maestro histrionismo propaganda pintor desaforado perfeccionista eximio prestidigitador extravagante ciudadano salvador dalí chiflado prolífico ampurdán llanura catalana barrida vertiginoso viento norte recoge suaves olas mar mediterráneo costa tortuosa arriscada descubrió arte mixtificación simulacro mentira disimulo disfraz aprender reproducir sueños exactitud lápiz longeva existencia tercamente consagrada torturar materia lienzos frutos perversos feraz imaginación mantuvo igualmente fiel paisaje deslumbrante infancia port lligat bahía abrazada rocas espíritu remansa ora elevarse misterios sublimes ora corromperse aguas quietas místico narcisista impúdico exhibidor circunstancias íntimas vida maores pintores siglo xx salvador dalí convirtió irresponsabilidad provocativa ética estética lúgubre estética bello concibe contenga inquietante fulgor siniestro biografías vidas desea reproducir biografía web'"
            ]
          },
          "metadata": {
            "tags": []
          },
          "execution_count": 34
        }
      ]
    },
    {
      "cell_type": "markdown",
      "metadata": {
        "id": "CwY2UmTOS7-l",
        "colab_type": "text"
      },
      "source": [
        "# Lematización\n",
        "---"
      ]
    },
    {
      "cell_type": "code",
      "metadata": {
        "id": "uz4qX1GxeYQu",
        "colab_type": "code",
        "outputId": "de7ac5ee-17ac-43b0-bed6-3d995136948c",
        "colab": {
          "base_uri": "https://localhost:8080/",
          "height": 85
        }
      },
      "source": [
        "# Ejemplo\n",
        "lem = nlp2(\"jugar jugaron juego juguetes\")\n",
        "# finding lemma for each word\n",
        "for word in lem:\n",
        "    print(word.text,word.lemma_)"
      ],
      "execution_count": 0,
      "outputs": [
        {
          "output_type": "stream",
          "text": [
            "jugar jugar\n",
            "jugaron jugar\n",
            "juego jugar\n",
            "juguetes juguete\n"
          ],
          "name": "stdout"
        }
      ]
    },
    {
      "cell_type": "markdown",
      "metadata": {
        "id": "ZNDKfhhgA9Eh",
        "colab_type": "text"
      },
      "source": [
        "# Código para gráficos\n",
        "---"
      ]
    },
    {
      "cell_type": "markdown",
      "metadata": {
        "id": "h3qQ3AVh-t0N",
        "colab_type": "text"
      },
      "source": [
        "### Nube en una función"
      ]
    },
    {
      "cell_type": "code",
      "metadata": {
        "id": "yMLlj24g-E4H",
        "colab_type": "code",
        "colab": {}
      },
      "source": [
        "# n es el maximo de palabras de la nube\n",
        "def nube(text, n):\n",
        "  import numpy as np\n",
        "  import pandas as pd\n",
        "  from os import path\n",
        "  from PIL import Image\n",
        "  from wordcloud import WordCloud, STOPWORDS, ImageColorGenerator\n",
        "  import matplotlib.pyplot as plt\n",
        "  % matplotlib inline\n",
        "  wordcloud = WordCloud(max_font_size=90, max_words=n, background_color=\"azure\").generate(text)\n",
        "  plt.figure()\n",
        "  plt.imshow(wordcloud, interpolation=\"bilinear\")\n",
        "  plt.axis(\"off\")\n",
        "  plt.show()"
      ],
      "execution_count": 0,
      "outputs": []
    },
    {
      "cell_type": "code",
      "metadata": {
        "id": "mZuf2lXX-6_g",
        "colab_type": "code",
        "outputId": "dde48399-3f58-47b1-b739-f7bb7ad69645",
        "colab": {
          "base_uri": "https://localhost:8080/",
          "height": 198
        }
      },
      "source": [
        "# Llamado de la funcón nube\n",
        "nube(text,50)"
      ],
      "execution_count": 0,
      "outputs": [
        {
          "output_type": "display_data",
          "data": {
            "image/png": "[encoded data removed]",
            "text/plain": [
              "<Figure size 432x288 with 1 Axes>"
            ]
          },
          "metadata": {
            "tags": []
          }
        }
      ]
    },
    {
      "cell_type": "markdown",
      "metadata": {
        "id": "q_47HDhrHvjO",
        "colab_type": "text"
      },
      "source": [
        "### Bigrama en una función"
      ]
    },
    {
      "cell_type": "code",
      "metadata": {
        "id": "ywKqmnu_Htro",
        "colab_type": "code",
        "colab": {}
      },
      "source": [
        "# n= los n pares de palabras mas comunes\n",
        "def frec_bigrama (text,n):\n",
        "  #librerias\n",
        "  import os\n",
        "  import numpy as np\n",
        "  import pandas as pd\n",
        "  import matplotlib.pyplot as plt\n",
        "  import seaborn as sns\n",
        "  import itertools\n",
        "  import collections\n",
        "  import nltk\n",
        "  from nltk import bigrams\n",
        "  from nltk.corpus import stopwords\n",
        "  import re\n",
        "  import warnings\n",
        "  warnings.filterwarnings(\"ignore\")\n",
        "  text= [text] #meterlo como lista\n",
        "  #Conteo pares de palabras\n",
        "  bigrams = [b for l in text for b in zip(l.split(\" \")[:-1], l.split(\" \")[1:])]\n",
        "  bigram_counts = collections.Counter(bigrams)\n",
        "  bigram_df = pd.DataFrame(bigram_counts.most_common(n),\n",
        "                             columns=['bigram', 'count'])\n",
        "  #Ordenar de mayor a menor\n",
        "  bigram_df = bigram_df.sort_values('count')\n",
        "  \n",
        "  #Grafico\n",
        "  y_pos = np.arange(len(bigram_df['bigram']))\n",
        " \n",
        "  # Create horizontal bars\n",
        "  plt.barh(y_pos, bigram_df['count'], color='purple')\n",
        " \n",
        "  # Create names on the y-axis\n",
        "  plt.yticks(y_pos, bigram_df['bigram'])\n",
        "  \n",
        "  # Poner titulo\n",
        "  plt.title('Bigrama')\n",
        " \n",
        "  # Show graphic\n",
        "  plt.show()"
      ],
      "execution_count": 0,
      "outputs": []
    },
    {
      "cell_type": "code",
      "metadata": {
        "id": "wmMvdiZWLsbg",
        "colab_type": "code",
        "outputId": "bb333110-c137-47b7-f2e8-1ab5533ed23f",
        "colab": {
          "base_uri": "https://localhost:8080/",
          "height": 281
        }
      },
      "source": [
        "#Llamado de la funcion\n",
        "frec_bigrama(text,15)"
      ],
      "execution_count": 0,
      "outputs": [
        {
          "output_type": "display_data",
          "data": {
            "image/png": "[encoded data removed]",
            "text/plain": [
              "<Figure size 432x288 with 1 Axes>"
            ]
          },
          "metadata": {
            "tags": []
          }
        }
      ]
    },
    {
      "cell_type": "markdown",
      "metadata": {
        "id": "t5xgT5l0V_z6",
        "colab_type": "text"
      },
      "source": [
        "## Plot de redes en una función"
      ]
    },
    {
      "cell_type": "code",
      "metadata": {
        "id": "mqzkh3lkUoBL",
        "colab_type": "code",
        "colab": {}
      },
      "source": [
        "def plot_red (text, n):\n",
        "  import os\n",
        "  import numpy as np\n",
        "  import pandas as pd\n",
        "  import matplotlib.pyplot as plt\n",
        "  import seaborn as sns\n",
        "  import itertools\n",
        "  import collections\n",
        "\n",
        "  import tweepy as tw\n",
        "  import nltk\n",
        "  from nltk import bigrams\n",
        "  from nltk.corpus import stopwords\n",
        "  import re\n",
        "  import networkx as nx\n",
        "\n",
        "  import warnings\n",
        "  warnings.filterwarnings(\"ignore\")\n",
        "\n",
        "  sns.set(font_scale=1.5)\n",
        "  sns.set_style(\"whitegrid\")\n",
        "  text= [text] #meterlo como lista\n",
        "  #Conteo pares de palabras\n",
        "  bigrams = [b for l in text for b in zip(l.split(\" \")[:-1], l.split(\" \")[1:])]\n",
        "  bigram_counts = collections.Counter(bigrams)\n",
        "  bigram_df = pd.DataFrame(bigram_counts.most_common(n),\n",
        "                             columns=['bigram', 'count'])\n",
        "  # Diccionario de bigramas y su conteo\n",
        "  d = bigram_df.set_index('bigram').T.to_dict('records')\n",
        "\n",
        "  # Crear plot de redes\n",
        "  G = nx.Graph()\n",
        "\n",
        "  # Conecciones entre nodos\n",
        "  for k, v in d[0].items():\n",
        "      G.add_edge(k[0], k[1], weight=(v * 10))\n",
        "\n",
        "  fig, ax = plt.subplots(figsize=(10, 8))\n",
        "\n",
        "  pos = nx.spring_layout(G, k=1)\n",
        "\n",
        "  # Dibujar plot de redes\n",
        "  nx.draw_networkx(G, pos,\n",
        "                   font_size=16,\n",
        "                   width=3,\n",
        "                   edge_color='grey',\n",
        "                   node_color='purple',\n",
        "                   with_labels = False,\n",
        "                   ax=ax)\n",
        "\n",
        "  # Poner etiquetas\n",
        "  for key, value in pos.items():\n",
        "      x, y = value[0]+.135, value[1]+.045\n",
        "      ax.text(x, y,\n",
        "              s=key,\n",
        "              bbox=dict(facecolor='red', alpha=0.25),\n",
        "              horizontalalignment='center', fontsize=13)\n",
        "  plt.title('Gráfico de redes'.format(y))\n",
        "\n",
        "  return(plt.show())#mostrar plot\n",
        "  "
      ],
      "execution_count": 0,
      "outputs": []
    },
    {
      "cell_type": "code",
      "metadata": {
        "id": "vOQ4jaFHVuHR",
        "colab_type": "code",
        "outputId": "22a0aad2-fcb9-4993-dbd2-8252b54bfea9",
        "colab": {
          "base_uri": "https://localhost:8080/",
          "height": 486
        }
      },
      "source": [
        "#Llamado de la función\n",
        "plot_red (text, 15)"
      ],
      "execution_count": 0,
      "outputs": [
        {
          "output_type": "display_data",
          "data": {
            "image/png": "[encoded data removed]",
            "text/plain": [
              "<Figure size 720x576 with 1 Axes>"
            ]
          },
          "metadata": {
            "tags": []
          }
        }
      ]
    },
    {
      "cell_type": "markdown",
      "metadata": {
        "id": "WbG2_6yIBP6h",
        "colab_type": "text"
      },
      "source": [
        "# Resumen extractivo en una función\n",
        "---"
      ]
    },
    {
      "cell_type": "code",
      "metadata": {
        "id": "XuseAxMLc1Mm",
        "colab_type": "code",
        "colab": {}
      },
      "source": [
        "def extractive_summarizer(URL,N):\n",
        "  #Imprtar librerias\n",
        "  import bs4 as bs # web scraping\n",
        "  import urllib.request #extraer de la web\n",
        "  import re\n",
        "  import nltk #natural lenguage toolkit\n",
        "\n",
        "# Extraemos texto de la url\n",
        "  link = urllib.request.urlopen(URL)\n",
        "  article = link.read() #para leer los datos\n",
        "  parsed_article = bs.BeautifulSoup(article,'lxml')\n",
        "  paragraphs = parsed_article.find_all('p')\n",
        "  origin_text = \"\"\n",
        "\n",
        "  for p in paragraphs:\n",
        "      origin_text += p.text\n",
        "\n",
        "# Remover caracteres y numeros\n",
        "  origin_text = re.sub(r'\\[[0-9]*\\]', ' ', origin_text) #texto original\n",
        "  origin_text = re.sub(r'\\s+', ' ', origin_text)\n",
        "\n",
        "  formatted_origin_text = re.sub('[^a-zA-Z]', ' ', origin_text ) #texto formateado\n",
        "  formatted_origin_text = re.sub(r'\\s+', ' ', formatted_origin_text)\n",
        "\n",
        "# Lista de frases\n",
        "  nltk.download('punkt')\n",
        "  lista_oraciones = nltk.sent_tokenize(origin_text)\n",
        "\n",
        "#Definir las palabras de parada\n",
        "  nltk.download('stopwords')\n",
        "  stopwords = nltk.corpus.stopwords.words('spanish') \n",
        "\n",
        "#hacemos un diccionario de frecuencias\n",
        "  word_frequencies = {}\n",
        "  for word in nltk.word_tokenize(formatted_origin_text):\n",
        "      if word not in stopwords:\n",
        "          if word not in word_frequencies.keys():\n",
        "              word_frequencies[word] = 1\n",
        "          else:\n",
        "              word_frequencies[word] += 1\n",
        "#Ponderamos\n",
        "  maximum_frequncy = max(word_frequencies.values())\n",
        "\n",
        "  for word in word_frequencies.keys():\n",
        "     word_frequencies[word] = (word_frequencies[word]/maximum_frequncy)\n",
        "\n",
        "# Calcula las puntuaciones de las oraciones:\n",
        "  sentence_scores = {}\n",
        "  for sent in lista_oraciones:\n",
        "      for word in nltk.word_tokenize(sent.lower()):\n",
        "          if word in word_frequencies.keys():\n",
        "              if len(sent.split(' ')) < 30:\n",
        "                  if sent not in sentence_scores.keys():\n",
        "                      sentence_scores[sent] = word_frequencies[word]\n",
        "                  else:\n",
        "                      sentence_scores[sent] += word_frequencies[word]\n",
        "#  N oraciones con las puntuaciones más altas\n",
        "  import heapq\n",
        "  summary_sentences = heapq.nlargest(N, sentence_scores, key=sentence_scores.get)\n",
        "\n",
        "  summary = ' '.join(summary_sentences)\n",
        "\n",
        "  return(summary)"
      ],
      "execution_count": 0,
      "outputs": []
    },
    {
      "cell_type": "code",
      "metadata": {
        "id": "sWhg_SkldDfi",
        "colab_type": "code",
        "colab": {}
      },
      "source": [
        "#Llamado de la funcion\n",
        "URL = \"https://www.biografiasyvidas.com/biografia/d/dali.htm\"\n",
        "extractive_summarizer(URL,15)"
      ],
      "execution_count": 0,
      "outputs": []
    },
    {
      "cell_type": "code",
      "metadata": {
        "id": "DIsP6yJRoN3C",
        "colab_type": "code",
        "outputId": "a487a1a2-9fff-452a-c0b1-f104fc20d1d2",
        "colab": {
          "base_uri": "https://localhost:8080/",
          "height": 85
        }
      },
      "source": [
        "text2 = extractive_summarizer(URL,15)"
      ],
      "execution_count": 0,
      "outputs": [
        {
          "output_type": "stream",
          "text": [
            "[nltk_data] Downloading package punkt to /root/nltk_data...\n",
            "[nltk_data]   Package punkt is already up-to-date!\n",
            "[nltk_data] Downloading package stopwords to /root/nltk_data...\n",
            "[nltk_data]   Package stopwords is already up-to-date!\n"
          ],
          "name": "stdout"
        }
      ]
    },
    {
      "cell_type": "markdown",
      "metadata": {
        "id": "RQKyy5Uz9wKd",
        "colab_type": "text"
      },
      "source": [
        "# Código para el resumen abstractivo"
      ]
    },
    {
      "cell_type": "markdown",
      "metadata": {
        "id": "3EeyjzE1_og3",
        "colab_type": "text"
      },
      "source": [
        "## Con idioma inglés"
      ]
    },
    {
      "cell_type": "code",
      "metadata": {
        "id": "aMPjEmvQ9vEB",
        "colab_type": "code",
        "outputId": "02420287-478a-4ad1-8ac4-eee4a5cbf826",
        "colab": {
          "base_uri": "https://localhost:8080/",
          "height": 80
        }
      },
      "source": [
        "from attention import AttentionLayer"
      ],
      "execution_count": 0,
      "outputs": [
        {
          "output_type": "display_data",
          "data": {
            "text/html": [
              "<p style=\"color: red;\">\n",
              "The default version of TensorFlow in Colab will soon switch to TensorFlow 2.x.<br>\n",
              "We recommend you <a href=\"https://www.tensorflow.org/guide/migrate\" target=\"_blank\">upgrade</a> now \n",
              "or ensure your notebook will continue to use TensorFlow 1.x via the <code>%tensorflow_version 1.x</code> magic:\n",
              "<a href=\"https://colab.research.google.com/notebooks/tensorflow_version.ipynb\" target=\"_blank\">more info</a>.</p>\n"
            ],
            "text/plain": [
              "<IPython.core.display.HTML object>"
            ]
          },
          "metadata": {
            "tags": []
          }
        }
      ]
    },
    {
      "cell_type": "code",
      "metadata": {
        "id": "PEZg0tHKC3M1",
        "colab_type": "code",
        "outputId": "c788bccd-e259-439b-e360-a45b3cf0cea5",
        "colab": {
          "base_uri": "https://localhost:8080/",
          "height": 68
        }
      },
      "source": [
        "import numpy as np  \n",
        "import pandas as pd \n",
        "import re           \n",
        "from bs4 import BeautifulSoup \n",
        "from keras.preprocessing.text import Tokenizer \n",
        "from keras.preprocessing.sequence import pad_sequences\n",
        "import nltk #toco instalarla\n",
        "nltk.download('stopwords')\n",
        "from nltk.corpus import stopwords  \n",
        "from tensorflow.keras.layers import Input, LSTM, Embedding, Dense, Concatenate, TimeDistributed, Bidirectional\n",
        "from tensorflow.keras.models import Model\n",
        "from tensorflow.keras.callbacks import EarlyStopping\n",
        "import warnings\n",
        "pd.set_option(\"display.max_colwidth\", 200)\n",
        "warnings.filterwarnings(\"ignore\")"
      ],
      "execution_count": 0,
      "outputs": [
        {
          "output_type": "stream",
          "text": [
            "Using TensorFlow backend.\n"
          ],
          "name": "stderr"
        },
        {
          "output_type": "stream",
          "text": [
            "[nltk_data] Downloading package stopwords to /root/nltk_data...\n",
            "[nltk_data]   Unzipping corpora/stopwords.zip.\n"
          ],
          "name": "stdout"
        }
      ]
    },
    {
      "cell_type": "markdown",
      "metadata": {
        "id": "4yA1FdZEudIe",
        "colab_type": "text"
      },
      "source": [
        "Con los sigientes datos trabajaremos para entrenar modelo. Contiene dos columnas: una con un texto y otra con el resumen de dicho texto."
      ]
    },
    {
      "cell_type": "code",
      "metadata": {
        "id": "XWXj6Py9uqdX",
        "colab_type": "code",
        "outputId": "38751b9d-43df-4de4-d6e3-23f07010dc77",
        "colab": {
          "base_uri": "https://localhost:8080/",
          "height": 323
        }
      },
      "source": [
        "data = pd.read_csv(\"data_food.csv\", nrows = 2000)\n",
        "data.drop_duplicates(subset=['Text'],inplace=True)  #Quitar duplicados\n",
        "data.dropna(axis=0,inplace=True)   #Quitar NA's\n",
        "data.head()"
      ],
      "execution_count": 0,
      "outputs": [
        {
          "output_type": "execute_result",
          "data": {
            "text/html": [
              "<div>\n",
              "<style scoped>\n",
              "    .dataframe tbody tr th:only-of-type {\n",
              "        vertical-align: middle;\n",
              "    }\n",
              "\n",
              "    .dataframe tbody tr th {\n",
              "        vertical-align: top;\n",
              "    }\n",
              "\n",
              "    .dataframe thead th {\n",
              "        text-align: right;\n",
              "    }\n",
              "</style>\n",
              "<table border=\"1\" class=\"dataframe\">\n",
              "  <thead>\n",
              "    <tr style=\"text-align: right;\">\n",
              "      <th></th>\n",
              "      <th>Unnamed: 0</th>\n",
              "      <th>Summary</th>\n",
              "      <th>Text</th>\n",
              "    </tr>\n",
              "  </thead>\n",
              "  <tbody>\n",
              "    <tr>\n",
              "      <th>0</th>\n",
              "      <td>1</td>\n",
              "      <td>Good Quality Dog Food</td>\n",
              "      <td>I have bought several of the Vitality canned dog food products and have found them all to be of good quality. The product looks more like a stew than a processed meat and it smells better. My Labr...</td>\n",
              "    </tr>\n",
              "    <tr>\n",
              "      <th>1</th>\n",
              "      <td>2</td>\n",
              "      <td>Not as Advertised</td>\n",
              "      <td>Product arrived labeled as Jumbo Salted Peanuts...the peanuts were actually small sized unsalted. Not sure if this was an error or if the vendor intended to represent the product as \"Jumbo\".</td>\n",
              "    </tr>\n",
              "    <tr>\n",
              "      <th>2</th>\n",
              "      <td>3</td>\n",
              "      <td>\"Delight\" says it all</td>\n",
              "      <td>This is a confection that has been around a few centuries.  It is a light, pillowy citrus gelatin with nuts - in this case Filberts. And it is cut into tiny squares and then liberally coated with ...</td>\n",
              "    </tr>\n",
              "    <tr>\n",
              "      <th>3</th>\n",
              "      <td>4</td>\n",
              "      <td>Cough Medicine</td>\n",
              "      <td>If you are looking for the secret ingredient in Robitussin I believe I have found it.  I got this in addition to the Root Beer Extract I ordered (which was good) and made some cherry soda.  The fl...</td>\n",
              "    </tr>\n",
              "    <tr>\n",
              "      <th>4</th>\n",
              "      <td>5</td>\n",
              "      <td>Great taffy</td>\n",
              "      <td>Great taffy at a great price.  There was a wide assortment of yummy taffy.  Delivery was very quick.  If your a taffy lover, this is a deal.</td>\n",
              "    </tr>\n",
              "  </tbody>\n",
              "</table>\n",
              "</div>"
            ],
            "text/plain": [
              "   Unnamed: 0  ...                                                                                                                                                                                                     Text\n",
              "0           1  ...  I have bought several of the Vitality canned dog food products and have found them all to be of good quality. The product looks more like a stew than a processed meat and it smells better. My Labr...\n",
              "1           2  ...           Product arrived labeled as Jumbo Salted Peanuts...the peanuts were actually small sized unsalted. Not sure if this was an error or if the vendor intended to represent the product as \"Jumbo\".\n",
              "2           3  ...  This is a confection that has been around a few centuries.  It is a light, pillowy citrus gelatin with nuts - in this case Filberts. And it is cut into tiny squares and then liberally coated with ...\n",
              "3           4  ...  If you are looking for the secret ingredient in Robitussin I believe I have found it.  I got this in addition to the Root Beer Extract I ordered (which was good) and made some cherry soda.  The fl...\n",
              "4           5  ...                                                             Great taffy at a great price.  There was a wide assortment of yummy taffy.  Delivery was very quick.  If your a taffy lover, this is a deal.\n",
              "\n",
              "[5 rows x 3 columns]"
            ]
          },
          "metadata": {
            "tags": []
          },
          "execution_count": 43
        }
      ]
    },
    {
      "cell_type": "code",
      "metadata": {
        "id": "eob6zkU6_Wuw",
        "colab_type": "code",
        "colab": {}
      },
      "source": [
        "#Diccionario de contracciones en inglés\n",
        "contraction_mapping = {\"ain't\": \"is not\", \"aren't\": \"are not\",\"can't\": \"cannot\", \"cause\": \"because\", \"could've\": \"could have\", \"couldn't\": \"could not\",\n",
        "\n",
        "                           \"didn't\": \"did not\", \"doesn't\": \"does not\", \"don't\": \"do not\", \"hadn't\": \"had not\", \"hasn't\": \"has not\", \"haven't\": \"have not\",\n",
        "\n",
        "                           \"he'd\": \"he would\",\"he'll\": \"he will\", \"he's\": \"he is\", \"how'd\": \"how did\", \"how'd'y\": \"how do you\", \"how'll\": \"how will\", \"how's\": \"how is\",\n",
        "\n",
        "                           \"I'd\": \"I would\", \"I'd've\": \"I would have\", \"I'll\": \"I will\", \"I'll've\": \"I will have\",\"I'm\": \"I am\", \"I've\": \"I have\", \"i'd\": \"i would\",\n",
        "\n",
        "                           \"i'd've\": \"i would have\", \"i'll\": \"i will\",  \"i'll've\": \"i will have\",\"i'm\": \"i am\", \"i've\": \"i have\", \"isn't\": \"is not\", \"it'd\": \"it would\",\n",
        "\n",
        "                           \"it'd've\": \"it would have\",\n",
        "\n",
        "                           \"mayn't\": \"may not\", \"might've\": \"might have\",\"mightn't\": \"might not\",\"mightn't've\": \"might not have\", \"must've\": \"must have\",\n",
        "\n",
        "                           \"mustn't\": \"must not\", \"mustn't've\": \"must not have\", \"needn't\": \"need not\", \"needn't've\": \"need not have\",\"o'clock\": \"of the clock\",\n",
        "                       \n",
        "\n",
        "                           \"should've\": \"should have\", \"shouldn't\": \"should not\", \"shouldn't've\": \"should not have\", \"so've\": \"so have\",\"so's\": \"so as\",\n",
        "\n",
        "                           \"this's\": \"this is\",\"that'd\": \"that would\", \"that'd've\": \"that would have\", \"that's\": \"that is\", \"there'd\": \"there would\",\n",
        "\n",
        "                           \"there'd've\": \"there would have\", \"there's\": \"there is\", \"here's\": \"here is\",\"they'd\": \"they would\", \"they'd've\": \"they would have\",\n",
        "\n",
        "                           \"they'll\": \"they will\", \"they'll've\": \"they will have\", \"they're\": \"they are\", \"they've\": \"they have\", \"to've\": \"to have\",\n",
        "\n",
        "                           \"wasn't\": \"was not\", \"we'd\": \"we would\", \"we'd've\": \"we would have\", \"we'll\": \"we will\", \"we'll've\": \"we will have\", \"we're\": \"we are\",\n",
        "\n",
        "                           \"we've\": \"we have\", \"weren't\": \"were not\", \"what'll\": \"what will\", \"what'll've\": \"what will have\", \"what're\": \"what are\",\n",
        "\n",
        "                           \"what's\": \"what is\", \"what've\": \"what have\", \"when's\": \"when is\", \"when've\": \"when have\", \"where'd\": \"where did\", \"where's\": \"where is\",\n",
        "\n",
        "                           \"where've\": \"where have\", \"who'll\": \"who will\", \"who'll've\": \"who will have\", \"who's\": \"who is\", \"who've\": \"who have\",\n",
        "\n",
        "                           \"why's\": \"why is\", \"why've\": \"why have\", \"will've\": \"will have\", \"won't\": \"will not\", \"won't've\": \"will not have\",\n",
        "\n",
        "                           \"would've\": \"would have\", \"wouldn't\": \"would not\", \"wouldn't've\": \"would not have\", \"y'all\": \"you all\",\n",
        "\n",
        "                           \"y'all'd\": \"you all would\",\"y'all'd've\": \"you all would have\",\"y'all're\": \"you all are\",\"y'all've\": \"you all have\",\n",
        "\n",
        "                           \"you'd\": \"you would\", \"you'd've\": \"you would have\", \"you'll\": \"you will\", \"you'll've\": \"you will have\",\n",
        "\n",
        "                           \"you're\": \"you are\", \"you've\": \"you have\"}"
      ],
      "execution_count": 0,
      "outputs": []
    },
    {
      "cell_type": "markdown",
      "metadata": {
        "id": "SYqkw5DC_e5Z",
        "colab_type": "text"
      },
      "source": [
        "Realizaremos las siguientes tareas de preprocesamiento para nuestros datos:\n",
        "\n",
        "\n",
        "* Convierte todo a minúsculas\n",
        "*Eliminar etiquetas HTML\n",
        "*Mapeo de contracción\n",
        "*Eliminar cualquier texto dentro del paréntesis ()\n",
        "*Elimina los signos de puntuación y los caracteres especiales.\n",
        "*Eliminar palabras vacías\n",
        "*Eliminar palabras cortas"
      ]
    },
    {
      "cell_type": "code",
      "metadata": {
        "id": "mJKfxuuA_baJ",
        "colab_type": "code",
        "outputId": "4369278a-6562-447a-8cd1-7296de0ebd98",
        "colab": {
          "base_uri": "https://localhost:8080/",
          "height": 54
        }
      },
      "source": [
        "#Definir stop words\n",
        "stop_words = set(stopwords.words('english')) \n",
        "#===================================================================\n",
        "#Limpiar Columna Texto\n",
        "def text_cleaner(text):\n",
        "    newString = text.lower() #minusculas\n",
        "    newString = BeautifulSoup(newString, \"lxml\").text\n",
        "    newString = re.sub(r'\\([^)]*\\)', '', newString)#caracteres especiales\n",
        "    newString = re.sub('\"','', newString)\n",
        "    newString = ' '.join([contraction_mapping[t] if t in contraction_mapping else t for t in newString.split(\" \")])    \n",
        "    newString = re.sub(r\"'s\\b\",\"\",newString)\n",
        "    newString = re.sub(\"[^a-zA-Z]\", \" \", newString) \n",
        "    #filtrar stop words\n",
        "    tokens = [w for w in newString.split() if not w in stop_words]\n",
        "    long_words=[]\n",
        "    for i in tokens:\n",
        "        if len(i)>=3:                  \n",
        "            long_words.append(i)   \n",
        "    return (\" \".join(long_words)).strip()\n",
        "\n",
        "cleaned_text = []\n",
        "for t in data['Text']:\n",
        "    cleaned_text.append(text_cleaner(t))\n",
        "    \n",
        "#===================================================================\n",
        "#Limpiar Columna Summary\n",
        "\n",
        "def summary_cleaner(text):\n",
        "    newString = re.sub('\"','', text)\n",
        "    newString = ' '.join([contraction_mapping[t] if t in contraction_mapping else t for t in newString.split(\" \")])    \n",
        "    newString = re.sub(r\"'s\\b\",\"\",newString)\n",
        "    newString = re.sub(\"[^a-zA-Z]\", \" \", newString)\n",
        "    newString = newString.lower()\n",
        "    tokens=newString.split()\n",
        "    newString=''\n",
        "    for i in tokens:\n",
        "        if len(i)>1:                                 \n",
        "            newString=newString+i+' '  \n",
        "    return newString\n",
        "\n",
        "#Call the above function\n",
        "cleaned_summary = []\n",
        "for t in data['Summary']:\n",
        "    cleaned_summary.append(summary_cleaner(t))\n",
        "\n",
        "data['cleaned_text']=cleaned_text\n",
        "data['cleaned_summary']=cleaned_summary\n",
        "data['cleaned_summary'].replace('', np.nan, inplace=True)\n",
        "data.dropna(axis=0,inplace=True)\n",
        "\n",
        "#Vizualizar la primera linea \n",
        "print(\"texto= \",cleaned_text[1],\"; summary= \",cleaned_summary[1])"
      ],
      "execution_count": 0,
      "outputs": [
        {
          "output_type": "stream",
          "text": [
            "texto=  product arrived labeled jumbo salted peanuts peanuts actually small sized unsalted sure error vendor intended represent product jumbo ; summary=  not as advertised \n"
          ],
          "name": "stdout"
        }
      ]
    },
    {
      "cell_type": "code",
      "metadata": {
        "id": "NTw6K911HW26",
        "colab_type": "code",
        "outputId": "8fd1fa49-a852-42eb-ff44-51ddbb83985b",
        "colab": {
          "base_uri": "https://localhost:8080/",
          "height": 612
        }
      },
      "source": [
        "data.head()"
      ],
      "execution_count": 0,
      "outputs": [
        {
          "output_type": "execute_result",
          "data": {
            "text/html": [
              "<div>\n",
              "<style scoped>\n",
              "    .dataframe tbody tr th:only-of-type {\n",
              "        vertical-align: middle;\n",
              "    }\n",
              "\n",
              "    .dataframe tbody tr th {\n",
              "        vertical-align: top;\n",
              "    }\n",
              "\n",
              "    .dataframe thead th {\n",
              "        text-align: right;\n",
              "    }\n",
              "</style>\n",
              "<table border=\"1\" class=\"dataframe\">\n",
              "  <thead>\n",
              "    <tr style=\"text-align: right;\">\n",
              "      <th></th>\n",
              "      <th>Unnamed: 0</th>\n",
              "      <th>Summary</th>\n",
              "      <th>Text</th>\n",
              "      <th>cleaned_text</th>\n",
              "      <th>cleaned_summary</th>\n",
              "    </tr>\n",
              "  </thead>\n",
              "  <tbody>\n",
              "    <tr>\n",
              "      <th>0</th>\n",
              "      <td>1</td>\n",
              "      <td>Good Quality Dog Food</td>\n",
              "      <td>I have bought several of the Vitality canned dog food products and have found them all to be of good quality. The product looks more like a stew than a processed meat and it smells better. My Labr...</td>\n",
              "      <td>bought several vitality canned dog food products found good quality product looks like stew processed meat smells better labrador finicky appreciates product better</td>\n",
              "      <td>good quality dog food</td>\n",
              "    </tr>\n",
              "    <tr>\n",
              "      <th>1</th>\n",
              "      <td>2</td>\n",
              "      <td>Not as Advertised</td>\n",
              "      <td>Product arrived labeled as Jumbo Salted Peanuts...the peanuts were actually small sized unsalted. Not sure if this was an error or if the vendor intended to represent the product as \"Jumbo\".</td>\n",
              "      <td>product arrived labeled jumbo salted peanuts peanuts actually small sized unsalted sure error vendor intended represent product jumbo</td>\n",
              "      <td>not as advertised</td>\n",
              "    </tr>\n",
              "    <tr>\n",
              "      <th>2</th>\n",
              "      <td>3</td>\n",
              "      <td>\"Delight\" says it all</td>\n",
              "      <td>This is a confection that has been around a few centuries.  It is a light, pillowy citrus gelatin with nuts - in this case Filberts. And it is cut into tiny squares and then liberally coated with ...</td>\n",
              "      <td>confection around centuries light pillowy citrus gelatin nuts case filberts cut tiny squares liberally coated powdered sugar tiny mouthful heaven chewy flavorful highly recommend yummy treat famil...</td>\n",
              "      <td>delight says it all</td>\n",
              "    </tr>\n",
              "    <tr>\n",
              "      <th>3</th>\n",
              "      <td>4</td>\n",
              "      <td>Cough Medicine</td>\n",
              "      <td>If you are looking for the secret ingredient in Robitussin I believe I have found it.  I got this in addition to the Root Beer Extract I ordered (which was good) and made some cherry soda.  The fl...</td>\n",
              "      <td>looking secret ingredient robitussin believe found got addition root beer extract ordered made cherry soda flavor medicinal</td>\n",
              "      <td>cough medicine</td>\n",
              "    </tr>\n",
              "    <tr>\n",
              "      <th>4</th>\n",
              "      <td>5</td>\n",
              "      <td>Great taffy</td>\n",
              "      <td>Great taffy at a great price.  There was a wide assortment of yummy taffy.  Delivery was very quick.  If your a taffy lover, this is a deal.</td>\n",
              "      <td>great taffy great price wide assortment yummy taffy delivery quick taffy lover deal</td>\n",
              "      <td>great taffy</td>\n",
              "    </tr>\n",
              "  </tbody>\n",
              "</table>\n",
              "</div>"
            ],
            "text/plain": [
              "   Unnamed: 0  ...         cleaned_summary\n",
              "0           1  ...  good quality dog food \n",
              "1           2  ...      not as advertised \n",
              "2           3  ...    delight says it all \n",
              "3           4  ...         cough medicine \n",
              "4           5  ...            great taffy \n",
              "\n",
              "[5 rows x 5 columns]"
            ]
          },
          "metadata": {
            "tags": []
          },
          "execution_count": 46
        }
      ]
    },
    {
      "cell_type": "markdown",
      "metadata": {
        "id": "Dhe5T450DCyA",
        "colab_type": "text"
      },
      "source": [
        "Agregar los tokens especiales START y END al principio y al final del resumen:"
      ]
    },
    {
      "cell_type": "code",
      "metadata": {
        "id": "AugXQNRiBnVu",
        "colab_type": "code",
        "colab": {}
      },
      "source": [
        "data['cleaned_summary'] = data['cleaned_summary'].apply(lambda x : '_START_ '+ x + ' _END_')"
      ],
      "execution_count": 0,
      "outputs": []
    },
    {
      "cell_type": "markdown",
      "metadata": {
        "id": "gbkRoUxdDmZY",
        "colab_type": "text"
      },
      "source": [
        "Aquí, analizaremos la duración de las revisiones y el resumen para tener una idea general sobre la distribución de la longitud del texto. Esto nos ayudará a arreglar la longitud máxima de la secuencia:"
      ]
    },
    {
      "cell_type": "code",
      "metadata": {
        "id": "9dffMXxNC_Hh",
        "colab_type": "code",
        "outputId": "c63f59c8-c75f-47dd-b7bd-0a7d24b10054",
        "colab": {
          "base_uri": "https://localhost:8080/",
          "height": 281
        }
      },
      "source": [
        "import matplotlib.pyplot as plt\n",
        "text_word_count = []\n",
        "summary_word_count = []\n",
        "\n",
        "# llenar las listas con oraciones\n",
        "for i in data['cleaned_text']:\n",
        "      text_word_count.append(len(i.split()))\n",
        "\n",
        "for i in data['cleaned_summary']:\n",
        "      summary_word_count.append(len(i.split()))\n",
        "\n",
        "length_df = pd.DataFrame({'text':text_word_count, 'summary':summary_word_count})\n",
        "length_df.hist(bins = 30)\n",
        "plt.show()"
      ],
      "execution_count": 0,
      "outputs": [
        {
          "output_type": "display_data",
          "data": {
            "image/png": "[encoded data removed]",
            "text/plain": [
              "<Figure size 432x288 with 2 Axes>"
            ]
          },
          "metadata": {
            "tags": []
          }
        }
      ]
    },
    {
      "cell_type": "code",
      "metadata": {
        "id": "YTEWOBvGFc72",
        "colab_type": "code",
        "colab": {}
      },
      "source": [
        "#Segun el grafico anterior Podemos fijar la duración máxima de las revisiones a 80,\n",
        "#ya que parece ser la duración de la mayoría de las revisiones. Del mismo modo, podemos \n",
        "#establecer la longitud máxima del resumen en 10:\n",
        "\n",
        "max_len_text=80 \n",
        "max_len_summary=10"
      ],
      "execution_count": 0,
      "outputs": []
    },
    {
      "cell_type": "markdown",
      "metadata": {
        "id": "55sHgOzaEDei",
        "colab_type": "text"
      },
      "source": [
        "Ahora debemos dividir nuestro conjunto de datos en un conjunto de entrenamiento y validación. Usaremos el 90% del conjunto de datos como datos de entrenamiento y evaluaremos el rendimiento en el 10% restante"
      ]
    },
    {
      "cell_type": "code",
      "metadata": {
        "id": "reyfOHw9DEHq",
        "colab_type": "code",
        "colab": {}
      },
      "source": [
        "# x_tr, x_val son las particiones de training y validation para la columna Texto\n",
        "# y_tr, y_val son las particiones de training y validation para la columna Summary\n",
        "from sklearn.model_selection import train_test_split\n",
        "x_tr,x_val,y_tr,y_val=train_test_split(data['cleaned_text'],data['cleaned_summary'],test_size=0.1,random_state=0,shuffle=True)"
      ],
      "execution_count": 0,
      "outputs": []
    },
    {
      "cell_type": "code",
      "metadata": {
        "id": "EzhwpN_yF6Pi",
        "colab_type": "code",
        "colab": {}
      },
      "source": [
        "#prepare a tokenizer for reviews on training data\n",
        "x_tokenizer = Tokenizer()\n",
        "x_tokenizer.fit_on_texts(list(x_tr))\n",
        "\n",
        "#convert text sequences into integer sequences\n",
        "x_tr    =   x_tokenizer.texts_to_sequences(x_tr) \n",
        "x_val   =   x_tokenizer.texts_to_sequences(x_val)\n",
        "\n",
        "#padding zero upto maximum length\n",
        "x_tr    =   pad_sequences(x_tr,  maxlen=max_len_text, padding='post') \n",
        "x_val   =   pad_sequences(x_val, maxlen=max_len_text, padding='post')\n",
        "\n",
        "x_voc_size   =  len(x_tokenizer.word_index) +1\n",
        "\n",
        "#===================================================================\n",
        "\n",
        "#preparing a tokenizer for summary on training data \n",
        "y_tokenizer = Tokenizer()\n",
        "y_tokenizer.fit_on_texts(list(y_tr))\n",
        "\n",
        "#convert summary sequences into integer sequences\n",
        "y_tr    =   y_tokenizer.texts_to_sequences(y_tr) \n",
        "y_val   =   y_tokenizer.texts_to_sequences(y_val) \n",
        "\n",
        "#padding zero upto maximum length\n",
        "y_tr    =   pad_sequences(y_tr, maxlen=max_len_summary, padding='post')\n",
        "y_val   =   pad_sequences(y_val, maxlen=max_len_summary, padding='post')\n",
        "\n",
        "y_voc_size  =   len(y_tokenizer.word_index) +1"
      ],
      "execution_count": 0,
      "outputs": []
    },
    {
      "cell_type": "markdown",
      "metadata": {
        "id": "Q-EsP7IFGReY",
        "colab_type": "text"
      },
      "source": [
        "**Construcción del modelo**"
      ]
    },
    {
      "cell_type": "code",
      "metadata": {
        "id": "VAq_abrAF9op",
        "colab_type": "code",
        "outputId": "b24fbb8d-eb55-4115-c2f1-dcec28b779dc",
        "colab": {
          "base_uri": "https://localhost:8080/",
          "height": 819
        }
      },
      "source": [
        "from keras import backend as K \n",
        "K.clear_session() \n",
        "latent_dim = 500 \n",
        "\n",
        "# Encoder \n",
        "encoder_inputs = Input(shape=(max_len_text,)) \n",
        "enc_emb = Embedding(x_voc_size, latent_dim,trainable=True)(encoder_inputs) \n",
        "\n",
        "#LSTM 1 \n",
        "encoder_lstm1 = LSTM(latent_dim,return_sequences=True,return_state=True) \n",
        "encoder_output1, state_h1, state_c1 = encoder_lstm1(enc_emb) \n",
        "\n",
        "#LSTM 2 \n",
        "encoder_lstm2 = LSTM(latent_dim,return_sequences=True,return_state=True) \n",
        "encoder_output2, state_h2, state_c2 = encoder_lstm2(encoder_output1) \n",
        "\n",
        "#LSTM 3 \n",
        "encoder_lstm3=LSTM(latent_dim, return_state=True, return_sequences=True) \n",
        "encoder_outputs, state_h, state_c= encoder_lstm3(encoder_output2) \n",
        "\n",
        "# Set up the decoder. \n",
        "decoder_inputs = Input(shape=(None,)) \n",
        "dec_emb_layer = Embedding(y_voc_size, latent_dim,trainable=True) \n",
        "dec_emb = dec_emb_layer(decoder_inputs) \n",
        "\n",
        "#LSTM using encoder_states as initial state\n",
        "decoder_lstm = LSTM(latent_dim, return_sequences=True, return_state=True) \n",
        "decoder_outputs,decoder_fwd_state, decoder_back_state = decoder_lstm(dec_emb,initial_state=[state_h, state_c]) \n",
        "\n",
        "#Attention Layer\n",
        "attn_layer = AttentionLayer(name='attention_layer') \n",
        "attn_out, attn_states = attn_layer([encoder_outputs, decoder_outputs]) \n",
        "\n",
        "# Concat attention output and decoder LSTM output \n",
        "decoder_concat_input = Concatenate(axis=-1, name='concat_layer')([decoder_outputs, attn_out])\n",
        "\n",
        "#Dense layer\n",
        "decoder_dense = TimeDistributed(Dense(y_voc_size, activation='softmax')) \n",
        "decoder_outputs = decoder_dense(decoder_concat_input) \n",
        "\n",
        "# Define the model\n",
        "model = Model([encoder_inputs, decoder_inputs], decoder_outputs) \n",
        "model.summary()"
      ],
      "execution_count": 0,
      "outputs": [
        {
          "output_type": "stream",
          "text": [
            "WARNING:tensorflow:From /usr/local/lib/python3.6/dist-packages/keras/backend/tensorflow_backend.py:107: The name tf.reset_default_graph is deprecated. Please use tf.compat.v1.reset_default_graph instead.\n",
            "\n",
            "WARNING:tensorflow:From /usr/local/lib/python3.6/dist-packages/keras/backend/tensorflow_backend.py:111: The name tf.placeholder_with_default is deprecated. Please use tf.compat.v1.placeholder_with_default instead.\n",
            "\n",
            "WARNING:tensorflow:From /usr/local/lib/python3.6/dist-packages/keras/backend/tensorflow_backend.py:66: The name tf.get_default_graph is deprecated. Please use tf.compat.v1.get_default_graph instead.\n",
            "\n",
            "WARNING:tensorflow:From /usr/local/lib/python3.6/dist-packages/tensorflow_core/python/keras/initializers.py:119: calling RandomUniform.__init__ (from tensorflow.python.ops.init_ops) with dtype is deprecated and will be removed in a future version.\n",
            "Instructions for updating:\n",
            "Call initializer instance with the dtype argument instead of passing it to the constructor\n",
            "WARNING:tensorflow:From /usr/local/lib/python3.6/dist-packages/tensorflow_core/python/ops/resource_variable_ops.py:1630: calling BaseResourceVariable.__init__ (from tensorflow.python.ops.resource_variable_ops) with constraint is deprecated and will be removed in a future version.\n",
            "Instructions for updating:\n",
            "If using Keras pass *_constraint arguments to layers.\n",
            "Model: \"model\"\n",
            "__________________________________________________________________________________________________\n",
            "Layer (type)                    Output Shape         Param #     Connected to                     \n",
            "==================================================================================================\n",
            "input_1 (InputLayer)            [(None, 80)]         0                                            \n",
            "__________________________________________________________________________________________________\n",
            "embedding (Embedding)           (None, 80, 500)      3673000     input_1[0][0]                    \n",
            "__________________________________________________________________________________________________\n",
            "lstm (LSTM)                     [(None, 80, 500), (N 2002000     embedding[0][0]                  \n",
            "__________________________________________________________________________________________________\n",
            "input_2 (InputLayer)            [(None, None)]       0                                            \n",
            "__________________________________________________________________________________________________\n",
            "lstm_1 (LSTM)                   [(None, 80, 500), (N 2002000     lstm[0][0]                       \n",
            "__________________________________________________________________________________________________\n",
            "embedding_1 (Embedding)         (None, None, 500)    832000      input_2[0][0]                    \n",
            "__________________________________________________________________________________________________\n",
            "lstm_2 (LSTM)                   [(None, 80, 500), (N 2002000     lstm_1[0][0]                     \n",
            "__________________________________________________________________________________________________\n",
            "lstm_3 (LSTM)                   [(None, None, 500),  2002000     embedding_1[0][0]                \n",
            "                                                                 lstm_2[0][1]                     \n",
            "                                                                 lstm_2[0][2]                     \n",
            "__________________________________________________________________________________________________\n",
            "attention_layer (AttentionLayer ((None, None, 500),  500500      lstm_2[0][0]                     \n",
            "                                                                 lstm_3[0][0]                     \n",
            "__________________________________________________________________________________________________\n",
            "concat_layer (Concatenate)      (None, None, 1000)   0           lstm_3[0][0]                     \n",
            "                                                                 attention_layer[0][0]            \n",
            "__________________________________________________________________________________________________\n",
            "time_distributed (TimeDistribut (None, None, 1664)   1665664     concat_layer[0][0]               \n",
            "==================================================================================================\n",
            "Total params: 14,679,164\n",
            "Trainable params: 14,679,164\n",
            "Non-trainable params: 0\n",
            "__________________________________________________________________________________________________\n"
          ],
          "name": "stdout"
        }
      ]
    },
    {
      "cell_type": "markdown",
      "metadata": {
        "id": "J-alrH4OIIXJ",
        "colab_type": "text"
      },
      "source": [
        "Se debe compilar el modelo antes del training/testing"
      ]
    },
    {
      "cell_type": "code",
      "metadata": {
        "id": "2zae4FJ4Gxwo",
        "colab_type": "code",
        "colab": {}
      },
      "source": [
        "model.compile(optimizer='rmsprop', loss='sparse_categorical_crossentropy')"
      ],
      "execution_count": 0,
      "outputs": []
    },
    {
      "cell_type": "markdown",
      "metadata": {
        "id": "kPXKtsXRG3ii",
        "colab_type": "text"
      },
      "source": [
        "Aquí, se monitorea la pérdida de validación (val_loss). Nuestro modelo dejará de entrenar una vez que aumente la pérdida de validación:\n"
      ]
    },
    {
      "cell_type": "code",
      "metadata": {
        "id": "CXozzIWrHP2d",
        "colab_type": "code",
        "colab": {}
      },
      "source": [
        "es = EarlyStopping(monitor='val_loss', mode='min', verbose=1)"
      ],
      "execution_count": 0,
      "outputs": []
    },
    {
      "cell_type": "markdown",
      "metadata": {
        "id": "RSHPBTELHh4N",
        "colab_type": "text"
      },
      "source": [
        "**Entrenamiento:**\n",
        "\n",
        "En un tamaño de lote de 512 y lo validaremos en el conjunto de reserva (que es el 10% de nuestro conjunto de datos):"
      ]
    },
    {
      "cell_type": "code",
      "metadata": {
        "id": "SpGwQJ2-HUzD",
        "colab_type": "code",
        "outputId": "9f760f7a-eaa7-44d6-ea78-65b887d632c5",
        "colab": {
          "base_uri": "https://localhost:8080/",
          "height": 292
        }
      },
      "source": [
        "history=model.fit([x_tr,y_tr[:,:-1]], y_tr.reshape(y_tr.shape[0],y_tr.shape[1], 1)[:,1:] ,epochs=2,callbacks=[es],batch_size=512, validation_data=([x_val,y_val[:,:-1]], y_val.reshape(y_val.shape[0],y_val.shape[1], 1)[:,1:]))"
      ],
      "execution_count": 0,
      "outputs": [
        {
          "output_type": "stream",
          "text": [
            "WARNING:tensorflow:From /usr/local/lib/python3.6/dist-packages/tensorflow_core/python/ops/math_grad.py:1424: where (from tensorflow.python.ops.array_ops) is deprecated and will be removed in a future version.\n",
            "Instructions for updating:\n",
            "Use tf.where in 2.0, which has the same broadcast rule as np.where\n",
            "Train on 1793 samples, validate on 200 samples\n",
            "Epoch 1/5\n",
            "1793/1793 [==============================] - 17s 10ms/sample - loss: 6.0893 - val_loss: 3.0843\n",
            "Epoch 2/5\n",
            "1793/1793 [==============================] - 9s 5ms/sample - loss: 3.4528 - val_loss: 2.9496\n",
            "Epoch 3/5\n",
            "1793/1793 [==============================] - 9s 5ms/sample - loss: 3.1949 - val_loss: 2.7605\n",
            "Epoch 4/5\n",
            "1793/1793 [==============================] - 9s 5ms/sample - loss: 3.0606 - val_loss: 2.6747\n",
            "Epoch 5/5\n",
            "1793/1793 [==============================] - 9s 5ms/sample - loss: 2.9829 - val_loss: 2.7316\n",
            "Epoch 00005: early stopping\n"
          ],
          "name": "stdout"
        }
      ]
    },
    {
      "cell_type": "markdown",
      "metadata": {
        "id": "SnjwGxxXIbYq",
        "colab_type": "text"
      },
      "source": [
        "Trazaremos algunas gráficas de diagnóstico para comprender el comportamiento del modelo a lo largo del tiempo:"
      ]
    },
    {
      "cell_type": "code",
      "metadata": {
        "id": "UbV4z4ihIXEa",
        "colab_type": "code",
        "outputId": "e468c8d2-0ac3-4fc5-9abf-c9333391e687",
        "colab": {
          "base_uri": "https://localhost:8080/",
          "height": 265
        }
      },
      "source": [
        "from matplotlib import pyplot \n",
        "pyplot.plot(history.history['loss'], label='train') \n",
        "pyplot.plot(history.history['val_loss'], label='test') \n",
        "pyplot.legend() \n",
        "pyplot.show()"
      ],
      "execution_count": 0,
      "outputs": [
        {
          "output_type": "display_data",
          "data": {
            "image/png": "[encoded data removed]",
            "text/plain": [
              "<Figure size 432x288 with 1 Axes>"
            ]
          },
          "metadata": {
            "tags": []
          }
        }
      ]
    },
    {
      "cell_type": "markdown",
      "metadata": {
        "id": "lYJk9KfcIv5s",
        "colab_type": "text"
      },
      "source": [
        " Creemos el diccionario para convertir el índice en palabra para el vocabulario de destino y fuente"
      ]
    },
    {
      "cell_type": "code",
      "metadata": {
        "id": "yWmfGz64IwHh",
        "colab_type": "code",
        "colab": {}
      },
      "source": [
        "reverse_target_word_index=y_tokenizer.index_word \n",
        "reverse_source_word_index=x_tokenizer.index_word \n",
        "target_word_index=y_tokenizer.word_index"
      ],
      "execution_count": 0,
      "outputs": []
    },
    {
      "cell_type": "markdown",
      "metadata": {
        "id": "Zvj3KB1SI-7g",
        "colab_type": "text"
      },
      "source": [
        "Configure la inferencia para el codificador y el decodificador:"
      ]
    },
    {
      "cell_type": "code",
      "metadata": {
        "id": "vcpnC0r0I_I3",
        "colab_type": "code",
        "colab": {}
      },
      "source": [
        "# encoder inference\n",
        "encoder_model = Model(inputs=encoder_inputs,outputs=[encoder_outputs, state_h, state_c])\n",
        "\n",
        "# decoder inference\n",
        "# Below tensors will hold the states of the previous time step\n",
        "decoder_state_input_h = Input(shape=(latent_dim,))\n",
        "decoder_state_input_c = Input(shape=(latent_dim,))\n",
        "decoder_hidden_state_input = Input(shape=(max_len_text,latent_dim))\n",
        "\n",
        "# Get the embeddings of the decoder sequence\n",
        "dec_emb2= dec_emb_layer(decoder_inputs)\n",
        "\n",
        "# To predict the next word in the sequence, set the initial states to the states from the previous time step\n",
        "decoder_outputs2, state_h2, state_c2 = decoder_lstm(dec_emb2, initial_state=[decoder_state_input_h, decoder_state_input_c])\n",
        "\n",
        "#attention inference\n",
        "attn_out_inf, attn_states_inf = attn_layer([decoder_hidden_state_input, decoder_outputs2])\n",
        "decoder_inf_concat = Concatenate(axis=-1, name='concat')([decoder_outputs2, attn_out_inf])\n",
        "\n",
        "# A dense softmax layer to generate prob dist. over the target vocabulary\n",
        "decoder_outputs2 = decoder_dense(decoder_inf_concat)\n",
        "\n",
        "# Final decoder model\n",
        "decoder_model = Model(\n",
        "[decoder_inputs] + [decoder_hidden_state_input,decoder_state_input_h, decoder_state_input_c],\n",
        "[decoder_outputs2] + [state_h2, state_c2])"
      ],
      "execution_count": 0,
      "outputs": []
    },
    {
      "cell_type": "code",
      "metadata": {
        "id": "ltsACBKMJUDT",
        "colab_type": "code",
        "colab": {}
      },
      "source": [
        "def decode_sequence(input_seq):\n",
        "    # Encode the input as state vectors.\n",
        "    e_out, e_h, e_c = encoder_model.predict(input_seq)\n",
        "\n",
        "    # Generate empty target sequence of length 1.\n",
        "    target_seq = np.zeros((1,1))\n",
        "\n",
        "    # Chose the 'start' word as the first word of the target sequence\n",
        "    target_seq[0, 0] = target_word_index['start']\n",
        "\n",
        "    stop_condition = False\n",
        "    decoded_sentence = ''\n",
        "    while not stop_condition:\n",
        "        output_tokens, h, c = decoder_model.predict([target_seq] + [e_out, e_h, e_c])\n",
        "\n",
        "        # Sample a token\n",
        "        sampled_token_index = np.argmax(output_tokens[0, -1, :])\n",
        "        sampled_token = reverse_target_word_index[sampled_token_index+1]\n",
        "\n",
        "        if(sampled_token!='end'):\n",
        "            decoded_sentence += ' '+sampled_token\n",
        "\n",
        "            # Exit condition: either hit max length or find stop word.\n",
        "            if (sampled_token == 'end' or len(decoded_sentence.split()) >= (max_len_summary-1)):\n",
        "                stop_condition = True\n",
        "\n",
        "        # Update the target sequence (of length 1).\n",
        "        target_seq = np.zeros((1,1))\n",
        "        target_seq[0, 0] = sampled_token_index\n",
        "\n",
        "        # Update internal states\n",
        "        e_h, e_c = h, c\n",
        "\n",
        "    return decoded_sentence"
      ],
      "execution_count": 0,
      "outputs": []
    },
    {
      "cell_type": "markdown",
      "metadata": {
        "id": "cZtif2kAJUkf",
        "colab_type": "text"
      },
      "source": [
        "Definamos las funciones para convertir una secuencia de enteros en una secuencia de palabras para el resumen, así como las revisiones:"
      ]
    },
    {
      "cell_type": "code",
      "metadata": {
        "id": "_LiNkj5fJUvF",
        "colab_type": "code",
        "colab": {}
      },
      "source": [
        "def seq2summary(input_seq):\n",
        "    newString=''\n",
        "    for i in input_seq:\n",
        "      if((i!=0 and i!=target_word_index['start']) and i!=target_word_index['end']):\n",
        "        newString=newString+reverse_target_word_index[i]+' '\n",
        "    return newString\n",
        "\n",
        "def seq2text(input_seq):\n",
        "    newString=''\n",
        "    for i in input_seq:\n",
        "      if(i!=0):\n",
        "        newString=newString+reverse_source_word_index[i]+' '\n",
        "    return newString"
      ],
      "execution_count": 0,
      "outputs": []
    },
    {
      "cell_type": "code",
      "metadata": {
        "id": "HOelfY-mESi-",
        "colab_type": "code",
        "colab": {}
      },
      "source": [
        "for i in range(len(x_val)):\n",
        "  print(\"Review:\",seq2text(x_val[i]))\n",
        "  print(\"Original summary:\",seq2summary(y_val[i]))\n",
        "  print(\"Predicted summary:\",decode_sequence(x_val[i].reshape(1,max_len_text)))\n",
        "  print(\"\\n\")"
      ],
      "execution_count": 0,
      "outputs": []
    },
    {
      "cell_type": "markdown",
      "metadata": {
        "id": "uZL2JE1E_3kY",
        "colab_type": "text"
      },
      "source": [
        "## Con idioma español"
      ]
    },
    {
      "cell_type": "code",
      "metadata": {
        "id": "gXNDui2LAfvs",
        "colab_type": "code",
        "colab": {}
      },
      "source": [
        "from attention import AttentionLayer"
      ],
      "execution_count": 0,
      "outputs": []
    },
    {
      "cell_type": "code",
      "metadata": {
        "id": "XtFLboMVA_he",
        "colab_type": "code",
        "colab": {}
      },
      "source": [
        "import numpy as np  \n",
        "import pandas as pd \n",
        "import re           \n",
        "from bs4 import BeautifulSoup \n",
        "from keras.preprocessing.text import Tokenizer \n",
        "from keras.preprocessing.sequence import pad_sequences\n",
        "from nltk.corpus import stopwords   \n",
        "from tensorflow.keras.layers import Input, LSTM, Embedding, Dense, Concatenate, TimeDistributed, Bidirectional\n",
        "from tensorflow.keras.models import Model\n",
        "from tensorflow.keras.callbacks import EarlyStopping\n",
        "import warnings\n",
        "pd.set_option(\"display.max_colwidth\", 200)\n",
        "warnings.filterwarnings(\"ignore\")"
      ],
      "execution_count": 0,
      "outputs": []
    },
    {
      "cell_type": "code",
      "metadata": {
        "id": "bOEj3AKfBAcc",
        "colab_type": "code",
        "outputId": "9700c618-46a1-4a75-c79c-335d30c2a487",
        "colab": {
          "base_uri": "https://localhost:8080/",
          "height": 323
        }
      },
      "source": [
        "data = pd.read_csv(\"data_food.csv\", nrows = 2000)\n",
        "data.drop_duplicates(subset=['Text'],inplace=True)  #Quitar duplicados\n",
        "data.dropna(axis=0,inplace=True)   #Quitar NA's\n",
        "data.head()"
      ],
      "execution_count": 0,
      "outputs": [
        {
          "output_type": "execute_result",
          "data": {
            "text/html": [
              "<div>\n",
              "<style scoped>\n",
              "    .dataframe tbody tr th:only-of-type {\n",
              "        vertical-align: middle;\n",
              "    }\n",
              "\n",
              "    .dataframe tbody tr th {\n",
              "        vertical-align: top;\n",
              "    }\n",
              "\n",
              "    .dataframe thead th {\n",
              "        text-align: right;\n",
              "    }\n",
              "</style>\n",
              "<table border=\"1\" class=\"dataframe\">\n",
              "  <thead>\n",
              "    <tr style=\"text-align: right;\">\n",
              "      <th></th>\n",
              "      <th>Unnamed: 0</th>\n",
              "      <th>Summary</th>\n",
              "      <th>Text</th>\n",
              "    </tr>\n",
              "  </thead>\n",
              "  <tbody>\n",
              "    <tr>\n",
              "      <th>0</th>\n",
              "      <td>1</td>\n",
              "      <td>Good Quality Dog Food</td>\n",
              "      <td>I have bought several of the Vitality canned dog food products and have found them all to be of good quality. The product looks more like a stew than a processed meat and it smells better. My Labr...</td>\n",
              "    </tr>\n",
              "    <tr>\n",
              "      <th>1</th>\n",
              "      <td>2</td>\n",
              "      <td>Not as Advertised</td>\n",
              "      <td>Product arrived labeled as Jumbo Salted Peanuts...the peanuts were actually small sized unsalted. Not sure if this was an error or if the vendor intended to represent the product as \"Jumbo\".</td>\n",
              "    </tr>\n",
              "    <tr>\n",
              "      <th>2</th>\n",
              "      <td>3</td>\n",
              "      <td>\"Delight\" says it all</td>\n",
              "      <td>This is a confection that has been around a few centuries.  It is a light, pillowy citrus gelatin with nuts - in this case Filberts. And it is cut into tiny squares and then liberally coated with ...</td>\n",
              "    </tr>\n",
              "    <tr>\n",
              "      <th>3</th>\n",
              "      <td>4</td>\n",
              "      <td>Cough Medicine</td>\n",
              "      <td>If you are looking for the secret ingredient in Robitussin I believe I have found it.  I got this in addition to the Root Beer Extract I ordered (which was good) and made some cherry soda.  The fl...</td>\n",
              "    </tr>\n",
              "    <tr>\n",
              "      <th>4</th>\n",
              "      <td>5</td>\n",
              "      <td>Great taffy</td>\n",
              "      <td>Great taffy at a great price.  There was a wide assortment of yummy taffy.  Delivery was very quick.  If your a taffy lover, this is a deal.</td>\n",
              "    </tr>\n",
              "  </tbody>\n",
              "</table>\n",
              "</div>"
            ],
            "text/plain": [
              "   Unnamed: 0  ...                                                                                                                                                                                                     Text\n",
              "0           1  ...  I have bought several of the Vitality canned dog food products and have found them all to be of good quality. The product looks more like a stew than a processed meat and it smells better. My Labr...\n",
              "1           2  ...           Product arrived labeled as Jumbo Salted Peanuts...the peanuts were actually small sized unsalted. Not sure if this was an error or if the vendor intended to represent the product as \"Jumbo\".\n",
              "2           3  ...  This is a confection that has been around a few centuries.  It is a light, pillowy citrus gelatin with nuts - in this case Filberts. And it is cut into tiny squares and then liberally coated with ...\n",
              "3           4  ...  If you are looking for the secret ingredient in Robitussin I believe I have found it.  I got this in addition to the Root Beer Extract I ordered (which was good) and made some cherry soda.  The fl...\n",
              "4           5  ...                                                             Great taffy at a great price.  There was a wide assortment of yummy taffy.  Delivery was very quick.  If your a taffy lover, this is a deal.\n",
              "\n",
              "[5 rows x 3 columns]"
            ]
          },
          "metadata": {
            "tags": []
          },
          "execution_count": 49
        }
      ]
    },
    {
      "cell_type": "code",
      "metadata": {
        "id": "LGOIGG-hBI_4",
        "colab_type": "code",
        "colab": {}
      },
      "source": [
        "#limpiar texto original\n",
        "cleaned_text = []\n",
        "for t in data['Text']:\n",
        "    cleaned_text.append(Cleaner_text_sin_tok(t))\n",
        "#limpiar resumen    \n",
        "cleaned_summary = []\n",
        "for t in data['Summary']:\n",
        "    cleaned_summary.append(Cleaner_text_sin_tok(t))"
      ],
      "execution_count": 0,
      "outputs": []
    },
    {
      "cell_type": "code",
      "metadata": {
        "id": "Rkdgtm_ABKAN",
        "colab_type": "code",
        "colab": {}
      },
      "source": [
        "data['cleaned_text']=cleaned_text # Agregar columna texto original limpio\n",
        "data['cleaned_summary']=cleaned_summary # Agregar columna texto resumido limpio\n",
        "data['cleaned_summary'].replace('', np.nan, inplace=True)\n",
        "data.dropna(axis=0,inplace=True)"
      ],
      "execution_count": 0,
      "outputs": []
    },
    {
      "cell_type": "code",
      "metadata": {
        "id": "TMRSgDFMBJ9T",
        "colab_type": "code",
        "colab": {}
      },
      "source": [
        "#Agregar inicio y fin en el resumen limpio\n",
        "data['cleaned_summary'] = data['cleaned_summary'].apply(lambda x : '_START_ '+ x + ' _END_')"
      ],
      "execution_count": 0,
      "outputs": []
    },
    {
      "cell_type": "code",
      "metadata": {
        "id": "mpmTyjSeBJ7A",
        "colab_type": "code",
        "colab": {}
      },
      "source": [
        "import matplotlib.pyplot as plt\n",
        "text_word_count = []\n",
        "summary_word_count = []\n",
        "\n",
        "# llenar las listas con oraciones\n",
        "for i in data['cleaned_text']:\n",
        "      text_word_count.append(len(i.split()))\n",
        "\n",
        "for i in data['cleaned_summary']:\n",
        "      summary_word_count.append(len(i.split()))\n",
        "\n",
        "length_df = pd.DataFrame({'text':text_word_count, 'summary':summary_word_count})\n",
        "length_df.hist(bins = 30)\n",
        "plt.show()"
      ],
      "execution_count": 0,
      "outputs": []
    },
    {
      "cell_type": "code",
      "metadata": {
        "id": "0prsT9XNBJ4g",
        "colab_type": "code",
        "colab": {}
      },
      "source": [
        ""
      ],
      "execution_count": 0,
      "outputs": []
    },
    {
      "cell_type": "code",
      "metadata": {
        "id": "y_Jjlk6hBJ1b",
        "colab_type": "code",
        "colab": {}
      },
      "source": [
        ""
      ],
      "execution_count": 0,
      "outputs": []
    },
    {
      "cell_type": "code",
      "metadata": {
        "colab_type": "code",
        "outputId": "4369278a-6562-447a-8cd1-7296de0ebd98",
        "id": "SdLN2muRqk1K",
        "colab": {
          "base_uri": "https://localhost:8080/",
          "height": 54
        }
      },
      "source": [
        "#Definir stop words\n",
        "stop_words = set(stopwords.words('spanish')) \n",
        "#===================================================================\n",
        "#Limpiar Columna Texto\n",
        "def text_cleaner(text):\n",
        "    newString = text.lower() #minusculas\n",
        "    newString = BeautifulSoup(newString, \"lxml\").text\n",
        "    newString = re.sub(r'\\([^)]*\\)', '', newString)#caracteres especiales\n",
        "    newString = re.sub('\"','', newString)\n",
        "    newString = re.sub(r\"'s\\b\",\"\",newString)\n",
        "    newString = re.sub(\"[^a-zA-Z]\", \" \", newString) \n",
        "    #filtrar stop words\n",
        "    tokens = [w for w in newString.split() if not w in stop_words]\n",
        "    long_words=[]\n",
        "    for i in tokens:\n",
        "        if len(i)>=3:                  \n",
        "            long_words.append(i)   \n",
        "    return (\" \".join(long_words)).strip()\n",
        "\n",
        "cleaned_text = []\n",
        "for t in data['Text']:\n",
        "    cleaned_text.append(text_cleaner(t))\n",
        "    \n",
        "cleaned_text"
      ],
      "execution_count": 0,
      "outputs": [
        {
          "output_type": "stream",
          "text": [
            "texto=  product arrived labeled jumbo salted peanuts peanuts actually small sized unsalted sure error vendor intended represent product jumbo ; summary=  not as advertised \n"
          ],
          "name": "stdout"
        }
      ]
    },
    {
      "cell_type": "code",
      "metadata": {
        "id": "jcr-LQcWBJy2",
        "colab_type": "code",
        "colab": {}
      },
      "source": [
        ""
      ],
      "execution_count": 0,
      "outputs": []
    },
    {
      "cell_type": "code",
      "metadata": {
        "id": "A-a2Px34BJut",
        "colab_type": "code",
        "colab": {}
      },
      "source": [
        ""
      ],
      "execution_count": 0,
      "outputs": []
    },
    {
      "cell_type": "code",
      "metadata": {
        "id": "3d2TLO7GBJrt",
        "colab_type": "code",
        "colab": {}
      },
      "source": [
        ""
      ],
      "execution_count": 0,
      "outputs": []
    },
    {
      "cell_type": "markdown",
      "metadata": {
        "id": "DOMXeJt8y_BQ",
        "colab_type": "text"
      },
      "source": [
        "# Código de la App con kivy"
      ]
    },
    {
      "cell_type": "markdown",
      "metadata": {
        "id": "2dRZxye1z9QB",
        "colab_type": "text"
      },
      "source": [
        "La app se desarrolla inicialmente con la ayuda de la libreria kivy de python, esta nos ayuda a la creación de la app. En este fragmento de código vemos inicialmente como nos pide que ingrsemos los datos básicos de la información del texto que queremos resumir, como lo es la URL de donde se extrajo, el titulo del texto y que clase de texto es."
      ]
    },
    {
      "cell_type": "code",
      "metadata": {
        "id": "UOomv21YzhhH",
        "colab_type": "code",
        "colab": {}
      },
      "source": [
        "import kivy\n",
        "from kivy.app import App\n",
        "from kivy.uix.label import Label\n",
        "from kivy.uix.gridlayout import GridLayout\n",
        "from kivy.uix.textinput import TextInput\n",
        "from kivy.uix.button import Button\n",
        "from kivy.uix.screenmanager import ScreenManager, Screen\n",
        "import os\n",
        "kivy.require(\"1.11.1\")\n",
        "\n",
        "\n",
        "class ConnectPage(GridLayout):\n",
        "    def __init__(self, **kwargs):\n",
        "        super().__init__(**kwargs)\n",
        "        self.cols = 2\n",
        "\n",
        "        if os.path.isfile(\"prev_details.txt\"):\n",
        "            with open(\"prev_details.txt\", \"r\") as f:\n",
        "                d = f.read().split(\",\")\n",
        "                prev_url = d[0]\n",
        "                prev_textittle = d[1]\n",
        "                prev_textkind = d[2]\n",
        "\n",
        "        else:\n",
        "            prev_url = \"\"\n",
        "            prev_textittle = \"\"\n",
        "            prev_textkind = \"\"\n",
        "\n",
        "        self.add_widget(Label(text=\"URL:\"))\n",
        "\n",
        "        self.url = TextInput(text=prev_url, multiline=False)\n",
        "        self.add_widget(self.url)\n",
        "\n",
        "        self.add_widget(Label(text=\"Text Tittle:\"))\n",
        "\n",
        "        self.textittle = TextInput(text=prev_textittle, multiline=False)\n",
        "        self.add_widget(self.textittle)\n",
        "\n",
        "        self.add_widget(Label(text=\"Text Kind:\"))\n",
        "\n",
        "        self.textkind = TextInput(text=prev_textkind, multiline=False)\n",
        "        self.add_widget(self.textkind)\n",
        "\n",
        "        self.join = Button(text=\"Join\")\n",
        "        self.join.bind(on_press=self.join_button)\n",
        "        self.add_widget(Label())\n",
        "        self.add_widget(self.join)\n",
        "\n",
        "    def join_button(self, instance):\n",
        "        url = self.url.text\n",
        "        textittle = self.textittle.text\n",
        "        textkind = self.textkind.text\n",
        "\n",
        "        with open(\"prev_detail.txt\", \"w\") as f:\n",
        "            f.write(f\"{textittle},{textkind},{url}\")\n",
        "\n",
        "        info = f\"Resume of {textittle} : {textkind} from {url}\"\n",
        "        resume_app.info_page.update_info(info)\n",
        "\n",
        "\n",
        "        resume_app.screen_manager.current = \"Info\"\n",
        "\n",
        "class InfoPage(GridLayout):\n",
        "    def __init__(self, **kwargs):\n",
        "        super().__init__(**kwargs)\n",
        "        self.cols = 1\n",
        "        self.message = Label(halign=\"center\", valign=\"middle\", font_size=30)\n",
        "        self.message.bind(width=self.update_text_width)\n",
        "        self.add_widget(self.message)\n",
        "\n",
        "    def update_info(self, message):\n",
        "        self.message.text = message\n",
        "\n",
        "    def update_text_width(self, *_):\n",
        "        self.message.text_size = (self.message.width*0.9, None)\n",
        "\n",
        "\n",
        "class TextMinningApp(App):\n",
        "    def build(self):\n",
        "        self.screen_manager = ScreenManager()\n",
        "\n",
        "        self.connect_page = ConnectPage()\n",
        "        screen = Screen(name=\"Connect\")\n",
        "        screen.add_widget(self.connect_page)\n",
        "        self.screen_manager.add_widget(screen)\n",
        "\n",
        "        self.info_page = InfoPage()\n",
        "        screen = Screen(name=\"Info\")\n",
        "        screen.add_widget(self.info_page)\n",
        "        self.screen_manager.add_widget(screen)\n",
        "\n",
        "        return self.screen_manager\n",
        "\n",
        "\n",
        "if __name__ == \"__main__\":\n",
        "    resume_app = TextMinningApp()\n",
        "    resume_app.run()\n"
      ],
      "execution_count": 0,
      "outputs": []
    }
  ]
}