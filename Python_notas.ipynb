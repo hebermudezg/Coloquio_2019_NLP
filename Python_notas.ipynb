{
  "nbformat": 4,
  "nbformat_minor": 0,
  "metadata": {
    "colab": {
      "name": "Python-notas.ipynb",
      "provenance": [],
      "collapsed_sections": [
        "vIVjvdQ7LSTP"
      ],
      "include_colab_link": true
    },
    "kernelspec": {
      "name": "python3",
      "display_name": "Python 3"
    }
  },
  "cells": [
    {
      "cell_type": "markdown",
      "metadata": {
        "id": "view-in-github",
        "colab_type": "text"
      },
      "source": [
        "<a href=\"https://colab.research.google.com/github/hebermudezg/Coloquio_2019_NLP/blob/master/Python_notas.ipynb\" target=\"_parent\"><img src=\"https://colab.research.google.com/assets/colab-badge.svg\" alt=\"Open In Colab\"/></a>"
      ]
    },
    {
      "cell_type": "markdown",
      "metadata": {
        "id": "3oVsUejC-Wna",
        "colab_type": "text"
      },
      "source": [
        "# Python notas\n",
        "Heber Esteban Bermúdez G.\n",
        "\n",
        "**Notas Basicas**\n",
        "---\n"
      ]
    },
    {
      "cell_type": "markdown",
      "metadata": {
        "id": "7-2tyUD-J6Vk",
        "colab_type": "text"
      },
      "source": [
        "Python es un lenguaje de programación interpretado cuya filosofía hace hincapié en una sintaxis que favorezca un código legible. Se trata de un lenguaje de programación multiparadigma, ya que soporta orientación a objetos, programación imperativa y, en menor medida, programación funcional. Es un lenguaje interpretado, de tipado fuerte, dinámico y multiplataforma.\n",
        "\n",
        "**Caracteristicas.**\n",
        "\n",
        "*   Lenguaje de alto nivel.\n",
        "*   Tipado dinamico y fuerte.\n",
        "*   Orientado a objetos.\n",
        "*   Open source.\n",
        "*   Interpretado. \n",
        "*   Multiplataforma.\n",
        "\n",
        "\n",
        "**Historia**\n",
        "\n",
        "Python fue creado a finales de los ochenta por Guido van Rossum en el Centro para las Matemáticas y la Informática (CWI, Centrum Wiskunde & Informatica), en los Países Bajos, como un sucesor del lenguaje de programación ABC.\n",
        "\n",
        "\n",
        "**Que es pip**\n",
        "\n",
        "PiP es un acrónimo recursivo de \" Pip Installs Packages \". Es esencialmente un sistema de administración de paquetes utilizado para instalar y administrar paquetes de software escritos en Python **py -m pip install pandas**\n",
        "\n",
        "\n",
        "\n",
        "**Donde programar ?**\n",
        "\n",
        "* Consola (.py)\n",
        "* Bloc de notas\n",
        "* ipython (Interactive python)\n",
        "* jupyter notebook (.ipynb)\n",
        "* jupyter.org (nube)\n",
        "* Colaboratory (google)\n",
        "* IDLE\n",
        "* Spyder (Distribución anaconda navigator)\n",
        "\n",
        "\n",
        "**Librerias mas usadas en python**\n",
        "* NumPy (soporte para vectores y matrices)\n",
        "* scipy (computacion cientifica)\n",
        "* pandas (estadistica, data frame)\n",
        "* scikit learn (machine learning)\n",
        "* tensorflow (redes neuronales)\n",
        "* astropy (para astronomia)\n",
        "* matplotlib (graficacion)\n",
        "* pytorch\n",
        "\n",
        "\n",
        "**Tipos de datos en Python** (lo veremos en detalle mas adelante)\n",
        "* Enteros (int)\n",
        "* Booleanos (bool) (compatibles con opeaciones booleanas and, or, not.)\n",
        "* Cadenas (str)\n",
        "* Listas: Son un grupo o array de datos (mutables)\n",
        "* Diccionarios: Son un grupo de valores o datos que se acceden a travéz de una clave\n",
        "* Tuplas: también son un grupo de datos igual que una lista (pero inmutables)"
      ]
    },
    {
      "cell_type": "markdown",
      "metadata": {
        "id": "kbwI3jSmTS5P",
        "colab_type": "text"
      },
      "source": [
        "## Etapas del Análisis de datos\n",
        "\n",
        "**1) Enmarcar el problema**\n",
        "\n",
        "¿Cual es el objetivo del análisis?\n",
        "\n",
        "**2) Adquirir y preparar los datos**\n",
        "\n",
        "**3) Explorar los datos**\n",
        "\n",
        "Estadística descriptiva\n",
        "\n",
        "**4) Modelamiento y evaluacion de resultados**\n",
        "\n",
        "**5) Comunicar los resultados/ poner en producción**\n",
        "\n",
        "\n"
      ]
    },
    {
      "cell_type": "markdown",
      "metadata": {
        "id": "xAaM0oJRiZwb",
        "colab_type": "text"
      },
      "source": [
        "*Usa la estadística como un borracho usa las farolas, para el apoyo en lugar de la iluminacion - Andrew Lang*"
      ]
    },
    {
      "cell_type": "code",
      "metadata": {
        "id": "IEZjTqWMn9yD",
        "colab_type": "code",
        "outputId": "bb2a890a-22ee-4a20-ed35-8abd85dec94e",
        "colab": {
          "base_uri": "https://localhost:8080/",
          "height": 374
        }
      },
      "source": [
        "import this"
      ],
      "execution_count": 0,
      "outputs": [
        {
          "output_type": "stream",
          "text": [
            "The Zen of Python, by Tim Peters\n",
            "\n",
            "Beautiful is better than ugly.\n",
            "Explicit is better than implicit.\n",
            "Simple is better than complex.\n",
            "Complex is better than complicated.\n",
            "Flat is better than nested.\n",
            "Sparse is better than dense.\n",
            "Readability counts.\n",
            "Special cases aren't special enough to break the rules.\n",
            "Although practicality beats purity.\n",
            "Errors should never pass silently.\n",
            "Unless explicitly silenced.\n",
            "In the face of ambiguity, refuse the temptation to guess.\n",
            "There should be one-- and preferably only one --obvious way to do it.\n",
            "Although that way may not be obvious at first unless you're Dutch.\n",
            "Now is better than never.\n",
            "Although never is often better than *right* now.\n",
            "If the implementation is hard to explain, it's a bad idea.\n",
            "If the implementation is easy to explain, it may be a good idea.\n",
            "Namespaces are one honking great idea -- let's do more of those!\n"
          ],
          "name": "stdout"
        }
      ]
    },
    {
      "cell_type": "markdown",
      "metadata": {
        "id": "LPdBJwFOlzqZ",
        "colab_type": "text"
      },
      "source": [
        "## Operadores comunes\n",
        "---"
      ]
    },
    {
      "cell_type": "markdown",
      "metadata": {
        "id": "fMR3ntEumHom",
        "colab_type": "text"
      },
      "source": [
        "longitud de una cadena, tupla, lista, diccionario, etc."
      ]
    },
    {
      "cell_type": "code",
      "metadata": {
        "id": "4WGtJjsClzHu",
        "colab_type": "code",
        "outputId": "7f241e56-d86e-4761-a517-33621a8f71b2",
        "colab": {
          "base_uri": "https://localhost:8080/",
          "height": 34
        }
      },
      "source": [
        "len(\"hola\")"
      ],
      "execution_count": 0,
      "outputs": [
        {
          "output_type": "execute_result",
          "data": {
            "text/plain": [
              "4"
            ]
          },
          "metadata": {
            "tags": []
          },
          "execution_count": 1
        }
      ]
    },
    {
      "cell_type": "markdown",
      "metadata": {
        "id": "0mnDin_ZmQ4e",
        "colab_type": "text"
      },
      "source": [
        "Para observar el tipo de dato usamos la función type()"
      ]
    },
    {
      "cell_type": "code",
      "metadata": {
        "id": "XAD5LNhrmZnP",
        "colab_type": "code",
        "outputId": "1c1caa53-975c-4bcc-897a-7aa2d4f34eb4",
        "colab": {
          "base_uri": "https://localhost:8080/",
          "height": 34
        }
      },
      "source": [
        "type(8.5)"
      ],
      "execution_count": 0,
      "outputs": [
        {
          "output_type": "execute_result",
          "data": {
            "text/plain": [
              "float"
            ]
          },
          "metadata": {
            "tags": []
          },
          "execution_count": 2
        }
      ]
    },
    {
      "cell_type": "markdown",
      "metadata": {
        "id": "3b15hg-mmdsm",
        "colab_type": "text"
      },
      "source": [
        "Redondear.\n"
      ]
    },
    {
      "cell_type": "code",
      "metadata": {
        "id": "8ueJJk-lmmyn",
        "colab_type": "code",
        "outputId": "1ec1dab5-3d8f-451e-9981-d936a24b7ec6",
        "colab": {
          "base_uri": "https://localhost:8080/",
          "height": 34
        }
      },
      "source": [
        "# redondeando a 3 cifras decimales\n",
        "round(8.12345678, 3 ) "
      ],
      "execution_count": 0,
      "outputs": [
        {
          "output_type": "execute_result",
          "data": {
            "text/plain": [
              "8.123"
            ]
          },
          "metadata": {
            "tags": []
          },
          "execution_count": 11
        }
      ]
    },
    {
      "cell_type": "markdown",
      "metadata": {
        "id": "VX1t4-h-nkgb",
        "colab_type": "text"
      },
      "source": [
        "Organizar un conjunto"
      ]
    },
    {
      "cell_type": "code",
      "metadata": {
        "id": "Cx5JZabwnpMQ",
        "colab_type": "code",
        "outputId": "6d819a92-871a-488e-95f2-949d613aa984",
        "colab": {
          "base_uri": "https://localhost:8080/",
          "height": 34
        }
      },
      "source": [
        "sorted([1,8,9,6,4,])"
      ],
      "execution_count": 0,
      "outputs": [
        {
          "output_type": "execute_result",
          "data": {
            "text/plain": [
              "[1, 4, 6, 8, 9]"
            ]
          },
          "metadata": {
            "tags": []
          },
          "execution_count": 17
        }
      ]
    },
    {
      "cell_type": "markdown",
      "metadata": {
        "id": "JjZpSkxSn5eX",
        "colab_type": "text"
      },
      "source": [
        "funciones o metodos que se pueden aplicar a un tipo de datos"
      ]
    },
    {
      "cell_type": "code",
      "metadata": {
        "id": "1UvCKyosn_Ue",
        "colab_type": "code",
        "colab": {}
      },
      "source": [
        "a = \"hola mundo\"\n",
        "dir(a)"
      ],
      "execution_count": 0,
      "outputs": []
    },
    {
      "cell_type": "markdown",
      "metadata": {
        "id": "75ctiokWemHY",
        "colab_type": "text"
      },
      "source": [
        "**Nuestro primer programa**\n",
        "---"
      ]
    },
    {
      "cell_type": "code",
      "metadata": {
        "id": "SF-HO29NerU8",
        "colab_type": "code",
        "colab": {}
      },
      "source": [
        "import turtle\n",
        "#window = turtle.Screen()\n",
        "esteban = turtle.Turtle()\n",
        "esteban.fordwar(50)\n",
        "esteban.left(90)\n",
        "esteban.fordwar(50)\n",
        "esteban.left(90)\n",
        "esteban.fordwar(50)\n",
        "esteban.left(90)\n",
        "esteban.fordwar(50)\n",
        "esteban.left(90)\n",
        "turtle.mainloop()\n"
      ],
      "execution_count": 0,
      "outputs": []
    },
    {
      "cell_type": "code",
      "metadata": {
        "id": "oPG9XqqS4z0S",
        "colab_type": "code",
        "colab": {}
      },
      "source": [
        ""
      ],
      "execution_count": 0,
      "outputs": []
    },
    {
      "cell_type": "markdown",
      "metadata": {
        "id": "TD-Lq4uw_61n",
        "colab_type": "text"
      },
      "source": [
        "**Imprimir**\n",
        "---"
      ]
    },
    {
      "cell_type": "markdown",
      "metadata": {
        "id": "orApxXGGo29J",
        "colab_type": "text"
      },
      "source": [
        "En Python existe una amplia manera de imprimir resultados en pantalla, aquí mostraremos algunas de ellas. "
      ]
    },
    {
      "cell_type": "code",
      "metadata": {
        "id": "O5LkOguIBSWh",
        "colab_type": "code",
        "colab": {}
      },
      "source": [
        "# Primero definamos algunas variables para trabajar.\n",
        "a = 8\n",
        "b = 8.8\n",
        "c = \"Unalytics\"\n"
      ],
      "execution_count": 0,
      "outputs": []
    },
    {
      "cell_type": "code",
      "metadata": {
        "id": "g9YApDtv-xnn",
        "colab_type": "code",
        "outputId": "326eef46-fd9a-4cf5-a959-a1972ba87c87",
        "colab": {
          "base_uri": "https://localhost:8080/",
          "height": 187
        }
      },
      "source": [
        "# Forma 1.\n",
        "print(\"hola mundo\")\n",
        "\n",
        "# Forma 2.\n",
        "print(a, b, c)\n",
        "print(\"a:\", a, \"b:\", b, \"c:\", c)\n",
        "print(\"resultado\", a*b)\n",
        "print(\"Escribir algo entre \\\"comillas\\\"\")\n",
        "\n",
        "# Forma 3. (Especificadores de formato)\n",
        "print(\"numero1: %d numero2: %.2f caracteres: %s\" %(a,b,c))\n",
        "\n",
        "# Forma 4 \n",
        "print(\"{} es un float y {} es un caracter\".format(b, c))\n",
        "\n",
        "\n",
        "# Forma 5. (triple comilla)\n",
        "print(\"\"\"para que podamos \n",
        "incluir saltos \n",
        "de linea\"\"\")\n",
        "\n"
      ],
      "execution_count": 0,
      "outputs": [
        {
          "output_type": "stream",
          "text": [
            "hola mundo\n",
            "8 8.8 Unalytics\n",
            "a: 8 b: 8.8 c: Unalytics\n",
            "resultado 70.4\n",
            "Escribir algo entre \"comillas\"\n",
            "numero1: 8 numero2: 8.80 caracteres: Unalytics\n",
            "8.8 es un float y Unalytics es un caracter\n",
            "para que podamos \n",
            "incluir saltos \n",
            "de linea\n"
          ],
          "name": "stdout"
        }
      ]
    },
    {
      "cell_type": "markdown",
      "metadata": {
        "id": "hmyUCfTUAV93",
        "colab_type": "text"
      },
      "source": [
        "\n",
        "**Nota:**\n",
        "```\n",
        "print(\"hola mundo\")  en  py 3.x  (forma funcional)\n",
        "print \"hola mundo\"   en  py 2.x\n",
        "```\n",
        "\n"
      ]
    },
    {
      "cell_type": "markdown",
      "metadata": {
        "id": "9VmiU5-TDSPl",
        "colab_type": "text"
      },
      "source": [
        "**Entrada**\n",
        "---"
      ]
    },
    {
      "cell_type": "code",
      "metadata": {
        "id": "8hiMHAvAAnUH",
        "colab_type": "code",
        "outputId": "e0289dfb-10e1-4a34-d968-d97ec4a97693",
        "colab": {
          "base_uri": "https://localhost:8080/",
          "height": 51
        }
      },
      "source": [
        "input()"
      ],
      "execution_count": 0,
      "outputs": [
        {
          "output_type": "stream",
          "text": [
            "Esteban\n"
          ],
          "name": "stdout"
        },
        {
          "output_type": "execute_result",
          "data": {
            "text/plain": [
              "'Esteban'"
            ]
          },
          "metadata": {
            "tags": []
          },
          "execution_count": 17
        }
      ]
    },
    {
      "cell_type": "markdown",
      "metadata": {
        "id": "fQVdT6AAowHj",
        "colab_type": "text"
      },
      "source": [
        "**Manejo String**\n",
        "---\n",
        "Los string son inmutables, la comparación de cadenas se hace en orden lexicográfico."
      ]
    },
    {
      "cell_type": "code",
      "metadata": {
        "id": "MdPIF-JIo3r7",
        "colab_type": "code",
        "outputId": "ed3179f4-717d-4b1d-ffaa-d8f336db133f",
        "colab": {
          "base_uri": "https://localhost:8080/",
          "height": 34
        }
      },
      "source": [
        "\"b\" > \"a\""
      ],
      "execution_count": 0,
      "outputs": [
        {
          "output_type": "execute_result",
          "data": {
            "text/plain": [
              "True"
            ]
          },
          "metadata": {
            "tags": []
          },
          "execution_count": 29
        }
      ]
    },
    {
      "cell_type": "code",
      "metadata": {
        "id": "n-SFK4CHI7OL",
        "colab_type": "code",
        "colab": {}
      },
      "source": [
        "text = \"hola, como vas?\""
      ],
      "execution_count": 0,
      "outputs": []
    },
    {
      "cell_type": "code",
      "metadata": {
        "id": "6cvrhLHnJGlU",
        "colab_type": "code",
        "outputId": "8763635d-1d25-47ab-b7d2-389e83768416",
        "colab": {
          "base_uri": "https://localhost:8080/",
          "height": 33
        }
      },
      "source": [
        "# acceder por indice al strig\n",
        "text[0]"
      ],
      "execution_count": 0,
      "outputs": [
        {
          "output_type": "execute_result",
          "data": {
            "text/plain": [
              "'h'"
            ]
          },
          "metadata": {
            "tags": []
          },
          "execution_count": 2
        }
      ]
    },
    {
      "cell_type": "code",
      "metadata": {
        "id": "EwKV6a8gJLXl",
        "colab_type": "code",
        "outputId": "9d85ccea-2736-4f15-baeb-4bfa0fafe0a8",
        "colab": {
          "base_uri": "https://localhost:8080/",
          "height": 33
        }
      },
      "source": [
        "# longitud del string\n",
        "len(text)"
      ],
      "execution_count": 0,
      "outputs": [
        {
          "output_type": "execute_result",
          "data": {
            "text/plain": [
              "15"
            ]
          },
          "metadata": {
            "tags": []
          },
          "execution_count": 3
        }
      ]
    },
    {
      "cell_type": "code",
      "metadata": {
        "id": "WEMRtCrTJPpE",
        "colab_type": "code",
        "outputId": "02aaa756-e036-46a0-eff7-2c2ce6eba951",
        "colab": {
          "base_uri": "https://localhost:8080/",
          "height": 33
        }
      },
      "source": [
        "# acceder al ultimo caracter\n",
        "text[len(text)-1]"
      ],
      "execution_count": 0,
      "outputs": [
        {
          "output_type": "execute_result",
          "data": {
            "text/plain": [
              "'?'"
            ]
          },
          "metadata": {
            "tags": []
          },
          "execution_count": 4
        }
      ]
    },
    {
      "cell_type": "markdown",
      "metadata": {
        "id": "O-Y4cQpUMTXu",
        "colab_type": "text"
      },
      "source": [
        "### Slices (rebanada)"
      ]
    },
    {
      "cell_type": "code",
      "metadata": {
        "id": "Pb3IxYchMZku",
        "colab_type": "code",
        "colab": {}
      },
      "source": [
        "string = \"sabrina\""
      ],
      "execution_count": 0,
      "outputs": []
    },
    {
      "cell_type": "code",
      "metadata": {
        "id": "yWMVwyAWMzFM",
        "colab_type": "code",
        "outputId": "58a7a223-45c6-4448-df85-ef96119c4037",
        "colab": {
          "base_uri": "https://localhost:8080/",
          "height": 33
        }
      },
      "source": [
        "string[1:]"
      ],
      "execution_count": 0,
      "outputs": [
        {
          "output_type": "execute_result",
          "data": {
            "text/plain": [
              "'abrina'"
            ]
          },
          "metadata": {
            "tags": []
          },
          "execution_count": 8
        }
      ]
    },
    {
      "cell_type": "code",
      "metadata": {
        "id": "eW9HTdAsM5Jz",
        "colab_type": "code",
        "outputId": "90835619-c68a-40dc-997e-248eacd01b91",
        "colab": {
          "base_uri": "https://localhost:8080/",
          "height": 33
        }
      },
      "source": [
        "string[2:4]"
      ],
      "execution_count": 0,
      "outputs": [
        {
          "output_type": "execute_result",
          "data": {
            "text/plain": [
              "'br'"
            ]
          },
          "metadata": {
            "tags": []
          },
          "execution_count": 10
        }
      ]
    },
    {
      "cell_type": "code",
      "metadata": {
        "id": "iAOnlYyZNbcK",
        "colab_type": "code",
        "outputId": "9ff3085e-9848-4f4a-e24d-ca829c3d3a29",
        "colab": {
          "base_uri": "https://localhost:8080/",
          "height": 33
        }
      },
      "source": [
        "# del cero hasta el final en saltos de 2\n",
        "string[0::2]"
      ],
      "execution_count": 0,
      "outputs": [
        {
          "output_type": "execute_result",
          "data": {
            "text/plain": [
              "'sbia'"
            ]
          },
          "metadata": {
            "tags": []
          },
          "execution_count": 11
        }
      ]
    },
    {
      "cell_type": "code",
      "metadata": {
        "id": "SdbZWh7oNmGS",
        "colab_type": "code",
        "outputId": "04a50a5d-0808-4920-c529-26a695b4596d",
        "colab": {
          "base_uri": "https://localhost:8080/",
          "height": 33
        }
      },
      "source": [
        "# sabrina al revés\n",
        "string[::-1]"
      ],
      "execution_count": 0,
      "outputs": [
        {
          "output_type": "execute_result",
          "data": {
            "text/plain": [
              "'anirbas'"
            ]
          },
          "metadata": {
            "tags": []
          },
          "execution_count": 12
        }
      ]
    },
    {
      "cell_type": "code",
      "metadata": {
        "id": "iAU-xQI_OJUj",
        "colab_type": "code",
        "colab": {}
      },
      "source": [
        ""
      ],
      "execution_count": 0,
      "outputs": []
    },
    {
      "cell_type": "markdown",
      "metadata": {
        "id": "ZmNrmDK7qdx9",
        "colab_type": "text"
      },
      "source": [
        "**ASCII vs Unicode**\n",
        "\n",
        "Codificadores de carácteres\n",
        "ASCII (American Standart code for informaticon interchage)\n",
        "\n",
        "Unicode (integra casi la mayoria de los alfabetos del mundo)\n"
      ]
    },
    {
      "cell_type": "markdown",
      "metadata": {
        "id": "8E1D8P2PFKv2",
        "colab_type": "text"
      },
      "source": [
        "## Estructuras de control\n",
        "---"
      ]
    },
    {
      "cell_type": "markdown",
      "metadata": {
        "id": "q0uCVuu5FRYe",
        "colab_type": "text"
      },
      "source": [
        "### Condicionales (if)\n"
      ]
    },
    {
      "cell_type": "code",
      "metadata": {
        "id": "1850KvQALv6c",
        "colab_type": "code",
        "outputId": "a4d7ef81-29f9-4c31-fbd4-32ded0a0237b",
        "colab": {
          "base_uri": "https://localhost:8080/",
          "height": 34
        }
      },
      "source": [
        "# Declarando variables \n",
        "numero_1 = 80\n",
        "numero_2 = 10\n",
        "\n",
        "# condicional (if)\n",
        "if numero_1 > numero_2:\n",
        "  print(\"numero_1 es mayor\")\n",
        "else:\n",
        "  print(\"numero_1 no es mayor\")\n",
        "  \n",
        "# Nota: Muy importante la identación."
      ],
      "execution_count": 0,
      "outputs": [
        {
          "output_type": "stream",
          "text": [
            "numero_1 es mayor\n"
          ],
          "name": "stdout"
        }
      ]
    },
    {
      "cell_type": "code",
      "metadata": {
        "id": "C96DEUHObCnR",
        "colab_type": "code",
        "colab": {}
      },
      "source": [
        "nota = int(input(\"Ingrese su nota: \"))\n",
        "\n",
        "if nota < 3:\n",
        "  print(\"Perdio\")\n",
        "elif nota <= 4:\n",
        "  print(\"gano\")\n",
        "elif nota <= 5:\n",
        "  print(\"exelente\")\n",
        "else:\n",
        "  print(\"nota incorrecta\")\n",
        "\n"
      ],
      "execution_count": 0,
      "outputs": []
    },
    {
      "cell_type": "code",
      "metadata": {
        "id": "8eftZJANeGiw",
        "colab_type": "code",
        "colab": {}
      },
      "source": [
        "# concatenacion de operadores de condicion\n",
        "\n",
        "edad = int(input(\"ingrese edad: \\n\"))\n",
        "if 0<edad<100:\n",
        "  print(\"edad correcta\")\n",
        "else:\n",
        "  print(\"edad incorrecta\")\n"
      ],
      "execution_count": 0,
      "outputs": []
    },
    {
      "cell_type": "code",
      "metadata": {
        "id": "3NIlW6v4SDJF",
        "colab_type": "code",
        "outputId": "c3b17fcc-58db-46ed-8491-3e5a2e0ac356",
        "colab": {
          "base_uri": "https://localhost:8080/",
          "height": 51
        }
      },
      "source": [
        "number = int(input(\"Escribe un número: \"))\n",
        "\n",
        "def is_prime(number):\n",
        "  if number < 2:\n",
        "    return False\n",
        "  elif number == 2:\n",
        "    return True\n",
        "  elif number > 2 and number % 2 == 0:\n",
        "    return False\n",
        "  else:\n",
        "    for i in range(3, number):\n",
        "      if number % i == 0:\n",
        "        return False\n",
        "      \n",
        "  return True\n",
        "\n",
        "result = is_prime(number)\n",
        "if result is True:\n",
        "  print(\"Tu número es primo\")\n",
        "else:\n",
        "  print(\"Tu número no es primo\")"
      ],
      "execution_count": 0,
      "outputs": [
        {
          "output_type": "stream",
          "text": [
            "Escribe un número: 7\n",
            "Tu número es primo\n"
          ],
          "name": "stdout"
        }
      ]
    },
    {
      "cell_type": "markdown",
      "metadata": {
        "id": "4PVXdOPxh7Ok",
        "colab_type": "text"
      },
      "source": [
        "**Operadores logicos (and, or, in )**"
      ]
    },
    {
      "cell_type": "markdown",
      "metadata": {
        "id": "yjMk6x0DjF2w",
        "colab_type": "text"
      },
      "source": [
        "### Ciclos-loop (for)"
      ]
    },
    {
      "cell_type": "code",
      "metadata": {
        "id": "oCC0MOhPVjQ3",
        "colab_type": "code",
        "outputId": "324b274f-ab23-4082-d19d-5e8a4d5581f7",
        "colab": {
          "base_uri": "https://localhost:8080/",
          "height": 33
        }
      },
      "source": [
        "# Generador de rangos (secuencias)\n",
        "range(0,5)"
      ],
      "execution_count": 0,
      "outputs": [
        {
          "output_type": "execute_result",
          "data": {
            "text/plain": [
              "range(0, 5)"
            ]
          },
          "metadata": {
            "tags": []
          },
          "execution_count": 7
        }
      ]
    },
    {
      "cell_type": "code",
      "metadata": {
        "id": "iGZzOag7V22S",
        "colab_type": "code",
        "outputId": "5f5dbb38-a5e1-4e45-cb7a-7def2fc0e13c",
        "colab": {
          "base_uri": "https://localhost:8080/",
          "height": 100
        }
      },
      "source": [
        "# imprimir rando de 0 a 5 en pasos de 2\n",
        "for i in range(0,10,2):\n",
        "  print(i)"
      ],
      "execution_count": 0,
      "outputs": [
        {
          "output_type": "stream",
          "text": [
            "0\n",
            "2\n",
            "4\n",
            "6\n",
            "8\n"
          ],
          "name": "stdout"
        }
      ]
    },
    {
      "cell_type": "code",
      "metadata": {
        "id": "F69-AW15WbXF",
        "colab_type": "code",
        "outputId": "d8aa19b4-0224-4b3e-9a30-32cda29045b6",
        "colab": {
          "base_uri": "https://localhost:8080/",
          "height": 183
        }
      },
      "source": [
        "for i in range(30):\n",
        "  if i % 3 != 0:\n",
        "    continue\n",
        "  else:\n",
        "    print(i**2)"
      ],
      "execution_count": 0,
      "outputs": [
        {
          "output_type": "stream",
          "text": [
            "0\n",
            "9\n",
            "36\n",
            "81\n",
            "144\n",
            "225\n",
            "324\n",
            "441\n",
            "576\n",
            "729\n"
          ],
          "name": "stdout"
        }
      ]
    },
    {
      "cell_type": "code",
      "metadata": {
        "id": "jr-7uNq6XsWo",
        "colab_type": "code",
        "outputId": "30f84e05-67f8-43db-ec12-1e49d9aa5dc3",
        "colab": {
          "base_uri": "https://localhost:8080/",
          "height": 166
        }
      },
      "source": [
        "# break para romper ciclos.\n",
        "for i in range(30):\n",
        "  if i % 2 == 0:\n",
        "    print(i)\n",
        "  elif i == 17:\n",
        "    break"
      ],
      "execution_count": 0,
      "outputs": [
        {
          "output_type": "stream",
          "text": [
            "0\n",
            "2\n",
            "4\n",
            "6\n",
            "8\n",
            "10\n",
            "12\n",
            "14\n",
            "16\n"
          ],
          "name": "stdout"
        }
      ]
    },
    {
      "cell_type": "markdown",
      "metadata": {
        "id": "NpYeOGKINMjU",
        "colab_type": "text"
      },
      "source": [
        "### Ciclo-loop while\n"
      ]
    },
    {
      "cell_type": "code",
      "metadata": {
        "id": "9TvKQSrGN-KC",
        "colab_type": "code",
        "outputId": "ed1c49a7-d071-4d82-85de-5af1fe4e61ba",
        "colab": {
          "base_uri": "https://localhost:8080/",
          "height": 100
        }
      },
      "source": [
        "i = 0\n",
        "while i < 5:\n",
        "  print(i)\n",
        "  i += 1"
      ],
      "execution_count": 0,
      "outputs": [
        {
          "output_type": "stream",
          "text": [
            "0\n",
            "1\n",
            "2\n",
            "3\n",
            "4\n"
          ],
          "name": "stdout"
        }
      ]
    },
    {
      "cell_type": "code",
      "metadata": {
        "colab_type": "code",
        "id": "bdxUY9qKEhDb",
        "colab": {}
      },
      "source": [
        "# para verificar si nuestra palabra es o no un palindromo\n",
        "def palindromo(word):\n",
        "  revertida = word[::-1]\n",
        "  if word == revertida:\n",
        "    return True\n",
        "  else:\n",
        "    return False"
      ],
      "execution_count": 0,
      "outputs": []
    },
    {
      "cell_type": "code",
      "metadata": {
        "id": "xkqi7OtZGiAb",
        "colab_type": "code",
        "outputId": "741f84f6-b1d3-41e8-db59-11f4e00946b5",
        "colab": {
          "base_uri": "https://localhost:8080/",
          "height": 33
        }
      },
      "source": [
        "palindromo(\"esteban\")"
      ],
      "execution_count": 0,
      "outputs": [
        {
          "output_type": "execute_result",
          "data": {
            "text/plain": [
              "False"
            ]
          },
          "metadata": {
            "tags": []
          },
          "execution_count": 10
        }
      ]
    },
    {
      "cell_type": "markdown",
      "metadata": {
        "id": "Z0kI5s4yFbZv",
        "colab_type": "text"
      },
      "source": [
        "**Funciones**\n",
        "---\n",
        "Son un bloque de código que realizan una tarea especifica, Las funciones pueden o no devolver valores, pueden tener parámetros o no, las funciones se crean con la palabra reservada ```def``` (definir).\n",
        "\n",
        "Fujo: de arriba y hacia abajo de izquierda a derecha, esto cambia si definimos funciones. \n",
        "\n"
      ]
    },
    {
      "cell_type": "code",
      "metadata": {
        "id": "tfS5afWONtUA",
        "colab_type": "code",
        "colab": {}
      },
      "source": [
        "# creando (declarando) función\n",
        "def nombre_de_la_funcion(a, b):\n",
        "  c=a**b\n",
        "  return(c)\n",
        "  \n",
        "# Nota: return es opcional"
      ],
      "execution_count": 0,
      "outputs": []
    },
    {
      "cell_type": "code",
      "metadata": {
        "id": "udqBhrTBOz5A",
        "colab_type": "code",
        "colab": {}
      },
      "source": [
        "# llamado a la función\n",
        "nombre_de_la_funcion(a=2, b=3)"
      ],
      "execution_count": 0,
      "outputs": []
    },
    {
      "cell_type": "code",
      "metadata": {
        "id": "apadlDcC5KVO",
        "colab_type": "code",
        "colab": {}
      },
      "source": [
        "# otra función \n",
        "import turtle\n",
        "def main():\n",
        "  window = turtle.Screen() # abrir una ventana\n",
        "  esteban = turtle.Turtle() # eneramos una tortuga\n",
        "  make_square(esteban) # llamado a la funcion hacer un cuadraro\n",
        "\n",
        "def make_square(esteban):\n",
        "  length = int(input(\"Tamañano del cuadrado: \")) # piediendo el tamaño de la tortuga\n",
        "  for i in range(4):\n",
        "    make_line_and_turn(esteban, length)\n",
        "\n",
        "def make_line_and_turn(dave, length):\n",
        "  esteban.forward(length)\n",
        "  esteban.left(90)\n",
        "\n",
        "if __name__ == '__main__':\n",
        "  main()"
      ],
      "execution_count": 0,
      "outputs": []
    },
    {
      "cell_type": "code",
      "metadata": {
        "id": "fZkTFW58De7v",
        "colab_type": "code",
        "outputId": "d642747f-e7e5-4d04-e540-1297c61f363c",
        "colab": {
          "base_uri": "https://localhost:8080/",
          "height": 85
        }
      },
      "source": [
        "#\n",
        "def foreing_exchange_calculator(ammount):\n",
        "  col_to_usa_rate = 3000\n",
        "  return(col_to_usa_rate*ammount)\n",
        "\n",
        "print(\"CALCULADORA DE DIVISAS\")\n",
        "print(\"\")\n",
        "ammount = float(input(\"Ingrese cantidad de dolares: \"))\n",
        "result = foreing_exchange_calculator(ammount)\n",
        "print(\"${} dolares son ${} pesos\".format(ammount, result))"
      ],
      "execution_count": 0,
      "outputs": [
        {
          "output_type": "stream",
          "text": [
            "CALCULADORA DE DIVISAS\n",
            "\n",
            "Ingrese cantidad de dolares: 5\n",
            "$5.0 dolares son $15000.0 pesos\n"
          ],
          "name": "stdout"
        }
      ]
    },
    {
      "cell_type": "code",
      "metadata": {
        "id": "Jn2y5XJ_O4vu",
        "colab_type": "code",
        "outputId": "729c852c-7853-4b24-d9df-2bc8f04f1ee7",
        "colab": {
          "base_uri": "https://localhost:8080/",
          "height": 34
        }
      },
      "source": [
        "True or False "
      ],
      "execution_count": 0,
      "outputs": [
        {
          "output_type": "execute_result",
          "data": {
            "text/plain": [
              "True"
            ]
          },
          "metadata": {
            "tags": []
          },
          "execution_count": 13
        }
      ]
    },
    {
      "cell_type": "markdown",
      "metadata": {
        "id": "x8IRQcn3XiV1",
        "colab_type": "text"
      },
      "source": [
        "## Estructuras de datos\n",
        "---"
      ]
    },
    {
      "cell_type": "markdown",
      "metadata": {
        "id": "9_mUrZswRfGx",
        "colab_type": "text"
      },
      "source": [
        "### Listas\n",
        "\n",
        "Estructura de datos que permite alamcenar valores (lista = array en R).\n",
        "\n",
        "Puede almacenar diferentes tipos de valores, podemos acceder en ella a través de indices\n",
        "\n",
        "* Se puede sumar listas\n",
        "* Se puede multiplicar listas\n",
        "* Son mutables\n",
        "\n",
        "Consultar métodos para listas\n",
        "\n"
      ]
    },
    {
      "cell_type": "code",
      "metadata": {
        "id": "0-oqqhUBH6yQ",
        "colab_type": "code",
        "colab": {}
      },
      "source": [
        "# creando una lista vacia\n",
        "mi_lista0 = list()"
      ],
      "execution_count": 0,
      "outputs": []
    },
    {
      "cell_type": "code",
      "metadata": {
        "id": "Qgi5iAGKIBJ0",
        "colab_type": "code",
        "colab": {}
      },
      "source": [
        "mi_lista0.append(\"elemento1\")"
      ],
      "execution_count": 0,
      "outputs": []
    },
    {
      "cell_type": "code",
      "metadata": {
        "id": "ygSrlvCUIMXy",
        "colab_type": "code",
        "outputId": "645033e5-6228-4e35-b4eb-5cf2b0797483",
        "colab": {
          "base_uri": "https://localhost:8080/",
          "height": 33
        }
      },
      "source": [
        "mi_lista0"
      ],
      "execution_count": 0,
      "outputs": [
        {
          "output_type": "execute_result",
          "data": {
            "text/plain": [
              "['elemento1']"
            ]
          },
          "metadata": {
            "tags": []
          },
          "execution_count": 17
        }
      ]
    },
    {
      "cell_type": "code",
      "metadata": {
        "id": "muIUZIB8R2d5",
        "colab_type": "code",
        "outputId": "0bea97d9-467b-4940-b7ab-8e3d57a2c583",
        "colab": {
          "base_uri": "https://localhost:8080/",
          "height": 33
        }
      },
      "source": [
        "# Creando lista\n",
        "mi_lista = [8, 8.8, \"Unalytics\", \"UN\", 100, True, False]\n",
        "\n",
        "# tipo\n",
        "type(mi_lista)"
      ],
      "execution_count": 0,
      "outputs": [
        {
          "output_type": "execute_result",
          "data": {
            "text/plain": [
              "list"
            ]
          },
          "metadata": {
            "tags": []
          },
          "execution_count": 18
        }
      ]
    },
    {
      "cell_type": "markdown",
      "metadata": {
        "id": "mzv32HXJU4Iq",
        "colab_type": "text"
      },
      "source": [
        "Accediendo a elementos"
      ]
    },
    {
      "cell_type": "code",
      "metadata": {
        "id": "OXoZdZBWTOIh",
        "colab_type": "code",
        "outputId": "9b74f073-e29a-4813-e6eb-705d67c7f772",
        "colab": {
          "base_uri": "https://localhost:8080/",
          "height": 33
        }
      },
      "source": [
        "#Imprimiendo elementos\n",
        "print(mi_lista[:])"
      ],
      "execution_count": 0,
      "outputs": [
        {
          "output_type": "stream",
          "text": [
            "[8, 8.8, 'Unalytics', 'UN', 100, True, False]\n"
          ],
          "name": "stdout"
        }
      ]
    },
    {
      "cell_type": "code",
      "metadata": {
        "id": "UiRGyjgmTa5Y",
        "colab_type": "code",
        "outputId": "a6bed2cb-9470-4292-cfc0-07b1ed54cf44",
        "colab": {
          "base_uri": "https://localhost:8080/",
          "height": 33
        }
      },
      "source": [
        "# Accediendo a un elemento\n",
        "mi_lista[0]"
      ],
      "execution_count": 0,
      "outputs": [
        {
          "output_type": "execute_result",
          "data": {
            "text/plain": [
              "8"
            ]
          },
          "metadata": {
            "tags": []
          },
          "execution_count": 21
        }
      ]
    },
    {
      "cell_type": "code",
      "metadata": {
        "id": "B1K6FM3sUXbC",
        "colab_type": "code",
        "outputId": "9f42802b-450d-47b3-b6b3-fa4b075fa1af",
        "colab": {
          "base_uri": "https://localhost:8080/",
          "height": 33
        }
      },
      "source": [
        "# Accediendo a un conjunto de elementos [2:] desde el tercer elemnto hasta el final de la lista\n",
        "mi_lista[2:]"
      ],
      "execution_count": 0,
      "outputs": [
        {
          "output_type": "execute_result",
          "data": {
            "text/plain": [
              "['Unalytics', 'UN', 100, True, False]"
            ]
          },
          "metadata": {
            "tags": []
          },
          "execution_count": 23
        }
      ]
    },
    {
      "cell_type": "code",
      "metadata": {
        "id": "zhWbAMOIKrdX",
        "colab_type": "code",
        "colab": {}
      },
      "source": [
        "# borrando el primer elemnto\n",
        "del mi_lista[0]"
      ],
      "execution_count": 0,
      "outputs": []
    },
    {
      "cell_type": "code",
      "metadata": {
        "id": "Ke_aHkXiKwK5",
        "colab_type": "code",
        "outputId": "8391a8de-caf4-4c64-ab87-362a5c4f9332",
        "colab": {
          "base_uri": "https://localhost:8080/",
          "height": 33
        }
      },
      "source": [
        "mi_lista"
      ],
      "execution_count": 0,
      "outputs": [
        {
          "output_type": "execute_result",
          "data": {
            "text/plain": [
              "[8.8, 'Unalytics', 'UN', 100, True, False]"
            ]
          },
          "metadata": {
            "tags": []
          },
          "execution_count": 25
        }
      ]
    },
    {
      "cell_type": "markdown",
      "metadata": {
        "id": "fHlmitHHUyKy",
        "colab_type": "text"
      },
      "source": [
        "Agregando elementos (appen, insert, extend, index, in)"
      ]
    },
    {
      "cell_type": "code",
      "metadata": {
        "id": "NTCvgXJnUxXh",
        "colab_type": "code",
        "colab": {}
      },
      "source": [
        "mi_lista.append(\"Colombia\")"
      ],
      "execution_count": 0,
      "outputs": []
    },
    {
      "cell_type": "code",
      "metadata": {
        "id": "uk_qzTPyVPDi",
        "colab_type": "code",
        "colab": {}
      },
      "source": [
        "mi_lista.insert(0, \"Medellín\")"
      ],
      "execution_count": 0,
      "outputs": []
    },
    {
      "cell_type": "code",
      "metadata": {
        "id": "v5ihsiIvVicB",
        "colab_type": "code",
        "colab": {}
      },
      "source": [
        "mi_lista.extend([\"otra lista\", \"Sabrina\"])"
      ],
      "execution_count": 0,
      "outputs": []
    },
    {
      "cell_type": "code",
      "metadata": {
        "id": "M6jPeyEOV1RS",
        "colab_type": "code",
        "outputId": "a1b4415c-0586-4895-e8e1-ff636bb80822",
        "colab": {
          "base_uri": "https://localhost:8080/",
          "height": 34
        }
      },
      "source": [
        "mi_lista.index(\"Unalytics\")"
      ],
      "execution_count": 0,
      "outputs": [
        {
          "output_type": "execute_result",
          "data": {
            "text/plain": [
              "3"
            ]
          },
          "metadata": {
            "tags": []
          },
          "execution_count": 61
        }
      ]
    },
    {
      "cell_type": "code",
      "metadata": {
        "id": "-iepkCW_WMTd",
        "colab_type": "code",
        "outputId": "6a731afe-653c-464a-ec33-54aebdc13c07",
        "colab": {
          "base_uri": "https://localhost:8080/",
          "height": 34
        }
      },
      "source": [
        "\"Unalytics\" in mi_lista"
      ],
      "execution_count": 0,
      "outputs": [
        {
          "output_type": "execute_result",
          "data": {
            "text/plain": [
              "True"
            ]
          },
          "metadata": {
            "tags": []
          },
          "execution_count": 71
        }
      ]
    },
    {
      "cell_type": "markdown",
      "metadata": {
        "id": "pUG0q3VeLTfO",
        "colab_type": "text"
      },
      "source": [
        "Casting Strings y Listas"
      ]
    },
    {
      "cell_type": "code",
      "metadata": {
        "id": "8vd4xAwVLSln",
        "colab_type": "code",
        "outputId": "f6eac815-857c-4bde-fc6f-65bf5f9a50d8",
        "colab": {
          "base_uri": "https://localhost:8080/",
          "height": 33
        }
      },
      "source": [
        "# convirtiendo string a listas. \n",
        "string = \"Unalytics\"\n",
        "mi_lista = list(string)\n",
        "mi_lista"
      ],
      "execution_count": 0,
      "outputs": [
        {
          "output_type": "execute_result",
          "data": {
            "text/plain": [
              "['U', 'n', 'a', 'l', 'y', 't', 'i', 'c', 's']"
            ]
          },
          "metadata": {
            "tags": []
          },
          "execution_count": 27
        }
      ]
    },
    {
      "cell_type": "markdown",
      "metadata": {
        "id": "QETSnonSXY_9",
        "colab_type": "text"
      },
      "source": [
        "**Tuplas**\n",
        "___\n",
        "\n",
        "Las tuplas son listan inmutable (no podemos modificarlas).\n",
        "\n",
        "permiten comprobación (in)\n",
        "\n",
        "Ventajas: Mayor rendimiento\n",
        "\n",
        "Convertir tupla a lista : list()\n",
        "\n",
        "Convertir lista a tupla: tuple()\n",
        "\n",
        "Desempaquetado de tupla. "
      ]
    },
    {
      "cell_type": "code",
      "metadata": {
        "id": "UfPxFx-bX3L6",
        "colab_type": "code",
        "colab": {}
      },
      "source": [
        "# Creando tupla\n",
        "mi_tupla=(\"1\", 2, 3, \"Unalytics\", True, False)"
      ],
      "execution_count": 0,
      "outputs": []
    },
    {
      "cell_type": "code",
      "metadata": {
        "id": "2-9z5YQVYgdU",
        "colab_type": "code",
        "outputId": "70a56aac-878a-49ee-df6f-1b312d0911df",
        "colab": {
          "base_uri": "https://localhost:8080/",
          "height": 34
        }
      },
      "source": [
        "mi_tupla"
      ],
      "execution_count": 0,
      "outputs": [
        {
          "output_type": "execute_result",
          "data": {
            "text/plain": [
              "('1', 2, 3, 'Unalytics', True, False)"
            ]
          },
          "metadata": {
            "tags": []
          },
          "execution_count": 80
        }
      ]
    },
    {
      "cell_type": "code",
      "metadata": {
        "id": "GfVb_0YhZ8LO",
        "colab_type": "code",
        "outputId": "4a5ad36f-9b9e-4805-feed-9e77c78901f7",
        "colab": {
          "base_uri": "https://localhost:8080/",
          "height": 34
        }
      },
      "source": [
        "len(mi_tupla)"
      ],
      "execution_count": 0,
      "outputs": [
        {
          "output_type": "execute_result",
          "data": {
            "text/plain": [
              "6"
            ]
          },
          "metadata": {
            "tags": []
          },
          "execution_count": 81
        }
      ]
    },
    {
      "cell_type": "markdown",
      "metadata": {
        "id": "ANvzLU7BaxtI",
        "colab_type": "text"
      },
      "source": [
        "**Diccionarios**\n",
        "___\n",
        "\n",
        "Los datos se almacenan como **Clave : Valor**\n",
        "\n",
        "Cualquier tipo de datos (lista, tuplas, otro diccionario)"
      ]
    },
    {
      "cell_type": "code",
      "metadata": {
        "id": "5V6cioiea02G",
        "colab_type": "code",
        "outputId": "22923dca-0b11-42d5-b0f1-a0f31b40573a",
        "colab": {
          "base_uri": "https://localhost:8080/",
          "height": 66
        }
      },
      "source": [
        "mi_diccionario = {\"Colombia\":[\"Medellín\", \"Bogotá\"], \"USA\":\"New york\", \"numeros\":(1,2,3)}\n",
        "\n",
        "for key in mi_diccionario.items():\n",
        "  print(key)\n"
      ],
      "execution_count": 0,
      "outputs": [
        {
          "output_type": "stream",
          "text": [
            "('Colombia', ['Medellín', 'Bogotá'])\n",
            "('USA', 'New york')\n",
            "('numeros', (1, 2, 3))\n"
          ],
          "name": "stdout"
        }
      ]
    },
    {
      "cell_type": "code",
      "metadata": {
        "id": "v0W6BHJubrEu",
        "colab_type": "code",
        "outputId": "7b06fee4-ec46-42bc-c8c7-f9f741a4ba8a",
        "colab": {
          "base_uri": "https://localhost:8080/",
          "height": 34
        }
      },
      "source": [
        "mi_diccionario[\"Colombia\"][:]"
      ],
      "execution_count": 0,
      "outputs": [
        {
          "output_type": "execute_result",
          "data": {
            "text/plain": [
              "['Medellín', 'Bogotá']"
            ]
          },
          "metadata": {
            "tags": []
          },
          "execution_count": 90
        }
      ]
    },
    {
      "cell_type": "code",
      "metadata": {
        "id": "NUYgf006cMFN",
        "colab_type": "code",
        "colab": {}
      },
      "source": [
        "mi_diccionario[\"Animales\"]=[\"perro\", \"gato\"]"
      ],
      "execution_count": 0,
      "outputs": []
    },
    {
      "cell_type": "code",
      "metadata": {
        "id": "Nh_14Y3McW90",
        "colab_type": "code",
        "outputId": "0c18c84b-10db-418e-a24e-e6e0def3969a",
        "colab": {
          "base_uri": "https://localhost:8080/",
          "height": 68
        }
      },
      "source": [
        "mi_diccionario"
      ],
      "execution_count": 0,
      "outputs": [
        {
          "output_type": "execute_result",
          "data": {
            "text/plain": [
              "{'Animales': ['perro', 'gato'],\n",
              " 'Colombia': ['Medellín', 'Bogotá'],\n",
              " 'numeros': (1, 2, 3)}"
            ]
          },
          "metadata": {
            "tags": []
          },
          "execution_count": 99
        }
      ]
    },
    {
      "cell_type": "code",
      "metadata": {
        "id": "5vIaN3nZcrMf",
        "colab_type": "code",
        "colab": {}
      },
      "source": [
        "# Eliminando valores\n",
        "del mi_diccionario[\"USA\"]"
      ],
      "execution_count": 0,
      "outputs": []
    },
    {
      "cell_type": "code",
      "metadata": {
        "id": "nO45NjPVdY3A",
        "colab_type": "code",
        "outputId": "a19aa523-d40f-4fcb-ab4c-8e34361b321d",
        "colab": {
          "base_uri": "https://localhost:8080/",
          "height": 34
        }
      },
      "source": [
        "mi_diccionario.keys()"
      ],
      "execution_count": 0,
      "outputs": [
        {
          "output_type": "execute_result",
          "data": {
            "text/plain": [
              "dict_keys(['Colombia', 'numeros', 'Animales'])"
            ]
          },
          "metadata": {
            "tags": []
          },
          "execution_count": 101
        }
      ]
    },
    {
      "cell_type": "markdown",
      "metadata": {
        "id": "dpRB0OF8ph-c",
        "colab_type": "text"
      },
      "source": [
        "**Clases**\n",
        "---\n",
        "\n",
        "Una clase no es mas que la representación de un objeto. \n"
      ]
    },
    {
      "cell_type": "code",
      "metadata": {
        "id": "dq-9bVO-p7aN",
        "colab_type": "code",
        "colab": {}
      },
      "source": [
        "class Estudiante(object): \n",
        "  def __init__(self,nombre_r,edad_r):\n",
        "    self.nombre = nombre_r\n",
        "    self.edad = edad_r \n",
        "\n",
        "  def hola(self):\n",
        "    return \"Mi nombre es %s y tengo %i\" % (self.nombre, self.edad)"
      ],
      "execution_count": 0,
      "outputs": []
    },
    {
      "cell_type": "code",
      "metadata": {
        "id": "eBBMalS8q-43",
        "colab_type": "code",
        "outputId": "f6dfef0d-52e4-4d71-e600-307926ad62c3",
        "colab": {
          "base_uri": "https://localhost:8080/",
          "height": 34
        }
      },
      "source": [
        "e = Estudiante(\"Arturo\", 21) \n",
        "print(e.hola())"
      ],
      "execution_count": 0,
      "outputs": [
        {
          "output_type": "stream",
          "text": [
            "Mi nombre es Arturo y tengo 21\n"
          ],
          "name": "stdout"
        }
      ]
    },
    {
      "cell_type": "markdown",
      "metadata": {
        "id": "tx_25fKdvgBu",
        "colab_type": "text"
      },
      "source": [
        "**Métodos especiales**\n",
        "___\n",
        "\n",
        "**```cmp(self,otro)```**\n",
        "\n",
        "Método llamado cuando utilizas los operadores de comparación para comprobar si tu objeto es menor, mayor o igual al objeto pasado como parámetro.\n",
        "\n",
        "**```len(self)```**\n",
        "Método llamado para comprobar la longitud del objeto. Lo usas, por ejemplo, cuando llamas la función len(obj) sobre nuestro código. Como es de suponer el método te debe devolver la longitud del objeto.\n",
        "\n",
        "**```init(self,otro)```**\n",
        "Es un constructor de nuestra clase, es decir, es un “método especial” que es llamas automáticamente cuando creas un objeto."
      ]
    },
    {
      "cell_type": "markdown",
      "metadata": {
        "id": "Ws0SzabAbltV",
        "colab_type": "text"
      },
      "source": [
        "**Recursividad**\n",
        "---\n",
        "Calcular el factorial de un numeor usando recursividad.\n",
        "\n",
        "**Importante** Establecer el caso base (number == 0) de nuestra función recursiva. "
      ]
    },
    {
      "cell_type": "code",
      "metadata": {
        "id": "vC0a8IdZbo5Q",
        "colab_type": "code",
        "outputId": "76d41e36-5fe8-447a-e1e7-47ebda729524",
        "colab": {
          "base_uri": "https://localhost:8080/",
          "height": 50
        }
      },
      "source": [
        "## Clacular el factorial de un número \n",
        "def factorial(number):\n",
        "  if number == 0:\n",
        "    return(1)\n",
        "  return (number*factorial(number-1))\n",
        "\n",
        "if __name__ == '__main__':\n",
        "  number = int(input(\"Escribe un número entero: \"))\n",
        "  result = factorial(number)\n",
        "  print(result)\n"
      ],
      "execution_count": 0,
      "outputs": [
        {
          "output_type": "stream",
          "text": [
            "Escribe un número entero: 4\n",
            "24\n"
          ],
          "name": "stdout"
        }
      ]
    },
    {
      "cell_type": "code",
      "metadata": {
        "id": "2lmB7yeddG0I",
        "colab_type": "code",
        "outputId": "1f3ff344-ecb1-41c4-ff2b-e99bea2601f7",
        "colab": {
          "base_uri": "https://localhost:8080/",
          "height": 50
        }
      },
      "source": [
        "number = int(input(\"Ingrese el número: \"))\n",
        "def factorial(number):\n",
        "  if number == 0:\n",
        "    return(1)\n",
        "  else:\n",
        "    return(number*factorial(number-1))\n",
        "\n",
        "result = factorial(number)\n",
        "result"
      ],
      "execution_count": 0,
      "outputs": [
        {
          "output_type": "stream",
          "text": [
            "Ingrese el número: 4\n"
          ],
          "name": "stdout"
        },
        {
          "output_type": "execute_result",
          "data": {
            "text/plain": [
              "24"
            ]
          },
          "metadata": {
            "tags": []
          },
          "execution_count": 6
        }
      ]
    },
    {
      "cell_type": "code",
      "metadata": {
        "id": "3CWsdAs-eKLW",
        "colab_type": "code",
        "colab": {}
      },
      "source": [
        "def factorial(number):\n",
        "  if number == 0:\n",
        "    return(1)\n",
        "  else:\n",
        "    return(number*number-1)\n",
        "\n",
        "resultado = factorial(number)\n",
        "print(resultado)"
      ],
      "execution_count": 0,
      "outputs": []
    },
    {
      "cell_type": "markdown",
      "metadata": {
        "id": "vIVjvdQ7LSTP",
        "colab_type": "text"
      },
      "source": [
        "**Practica**\n",
        "---\n",
        "\n",
        "atributo (sin parecentesis)\n",
        "metodo (con parentesis)"
      ]
    },
    {
      "cell_type": "code",
      "metadata": {
        "id": "Xv9v47HSLSfv",
        "colab_type": "code",
        "colab": {}
      },
      "source": [
        "# cargando libreria\n",
        "import pandas as pd\n",
        "import numpy as np\n",
        "import matplotlib.pyplot as plt"
      ],
      "execution_count": 0,
      "outputs": []
    },
    {
      "cell_type": "code",
      "metadata": {
        "id": "aAmPe47mMKPj",
        "colab_type": "code",
        "colab": {}
      },
      "source": [
        "auto = pd.read_csv(\"https://raw.githubusercontent.com/unalyticsteam/databases/master/auto-mpg.csv\")"
      ],
      "execution_count": 0,
      "outputs": []
    },
    {
      "cell_type": "code",
      "metadata": {
        "id": "SZmWuFwgMlly",
        "colab_type": "code",
        "outputId": "0a577a8b-2a36-409e-a11e-f38b232e6c76",
        "colab": {
          "base_uri": "https://localhost:8080/",
          "height": 204
        }
      },
      "source": [
        "auto.head()"
      ],
      "execution_count": 0,
      "outputs": [
        {
          "output_type": "execute_result",
          "data": {
            "text/html": [
              "<div>\n",
              "<style scoped>\n",
              "    .dataframe tbody tr th:only-of-type {\n",
              "        vertical-align: middle;\n",
              "    }\n",
              "\n",
              "    .dataframe tbody tr th {\n",
              "        vertical-align: top;\n",
              "    }\n",
              "\n",
              "    .dataframe thead th {\n",
              "        text-align: right;\n",
              "    }\n",
              "</style>\n",
              "<table border=\"1\" class=\"dataframe\">\n",
              "  <thead>\n",
              "    <tr style=\"text-align: right;\">\n",
              "      <th></th>\n",
              "      <th>No</th>\n",
              "      <th>mpg</th>\n",
              "      <th>cylinders</th>\n",
              "      <th>displacement</th>\n",
              "      <th>horsepower</th>\n",
              "      <th>weight</th>\n",
              "      <th>acceleration</th>\n",
              "      <th>model_year</th>\n",
              "      <th>car_name</th>\n",
              "    </tr>\n",
              "  </thead>\n",
              "  <tbody>\n",
              "    <tr>\n",
              "      <th>0</th>\n",
              "      <td>1</td>\n",
              "      <td>28.0</td>\n",
              "      <td>4</td>\n",
              "      <td>140.0</td>\n",
              "      <td>90</td>\n",
              "      <td>2264</td>\n",
              "      <td>15.5</td>\n",
              "      <td>71</td>\n",
              "      <td>chevrolet vega 2300</td>\n",
              "    </tr>\n",
              "    <tr>\n",
              "      <th>1</th>\n",
              "      <td>2</td>\n",
              "      <td>19.0</td>\n",
              "      <td>3</td>\n",
              "      <td>70.0</td>\n",
              "      <td>97</td>\n",
              "      <td>2330</td>\n",
              "      <td>13.5</td>\n",
              "      <td>72</td>\n",
              "      <td>mazda rx2 coupe</td>\n",
              "    </tr>\n",
              "    <tr>\n",
              "      <th>2</th>\n",
              "      <td>3</td>\n",
              "      <td>36.0</td>\n",
              "      <td>4</td>\n",
              "      <td>107.0</td>\n",
              "      <td>75</td>\n",
              "      <td>2205</td>\n",
              "      <td>14.5</td>\n",
              "      <td>82</td>\n",
              "      <td>honda accord</td>\n",
              "    </tr>\n",
              "    <tr>\n",
              "      <th>3</th>\n",
              "      <td>4</td>\n",
              "      <td>28.0</td>\n",
              "      <td>4</td>\n",
              "      <td>97.0</td>\n",
              "      <td>92</td>\n",
              "      <td>2288</td>\n",
              "      <td>17.0</td>\n",
              "      <td>72</td>\n",
              "      <td>datsun 510 (sw)</td>\n",
              "    </tr>\n",
              "    <tr>\n",
              "      <th>4</th>\n",
              "      <td>5</td>\n",
              "      <td>21.0</td>\n",
              "      <td>6</td>\n",
              "      <td>199.0</td>\n",
              "      <td>90</td>\n",
              "      <td>2648</td>\n",
              "      <td>15.0</td>\n",
              "      <td>70</td>\n",
              "      <td>amc gremlin</td>\n",
              "    </tr>\n",
              "  </tbody>\n",
              "</table>\n",
              "</div>"
            ],
            "text/plain": [
              "   No   mpg  cylinders  ...  acceleration  model_year             car_name\n",
              "0   1  28.0          4  ...          15.5          71  chevrolet vega 2300\n",
              "1   2  19.0          3  ...          13.5          72      mazda rx2 coupe\n",
              "2   3  36.0          4  ...          14.5          82         honda accord\n",
              "3   4  28.0          4  ...          17.0          72      datsun 510 (sw)\n",
              "4   5  21.0          6  ...          15.0          70          amc gremlin\n",
              "\n",
              "[5 rows x 9 columns]"
            ]
          },
          "metadata": {
            "tags": []
          },
          "execution_count": 4
        }
      ]
    },
    {
      "cell_type": "code",
      "metadata": {
        "id": "9SstgcgEMn8C",
        "colab_type": "code",
        "outputId": "bad05a41-8ff7-4a95-c446-1752d532ec46",
        "colab": {
          "base_uri": "https://localhost:8080/",
          "height": 255
        }
      },
      "source": [
        "auto.info()"
      ],
      "execution_count": 0,
      "outputs": [
        {
          "output_type": "stream",
          "text": [
            "<class 'pandas.core.frame.DataFrame'>\n",
            "RangeIndex: 398 entries, 0 to 397\n",
            "Data columns (total 9 columns):\n",
            "No              398 non-null int64\n",
            "mpg             398 non-null float64\n",
            "cylinders       398 non-null int64\n",
            "displacement    398 non-null float64\n",
            "horsepower      398 non-null int64\n",
            "weight          398 non-null int64\n",
            "acceleration    398 non-null float64\n",
            "model_year      398 non-null int64\n",
            "car_name        398 non-null object\n",
            "dtypes: float64(3), int64(5), object(1)\n",
            "memory usage: 28.1+ KB\n"
          ],
          "name": "stdout"
        }
      ]
    },
    {
      "cell_type": "code",
      "metadata": {
        "id": "1ZSzOLI-M_G1",
        "colab_type": "code",
        "outputId": "bbd8d0cc-eec7-4960-e709-234270e15a0b",
        "colab": {
          "base_uri": "https://localhost:8080/",
          "height": 34
        }
      },
      "source": [
        "# convertir cilindros a variable categorica\n",
        "#auto['model year']\n",
        "# objeto serie (analogo a vector en R)\n",
        "auto.model_year = auto.model_year.astype('category')\n",
        "auto.cylinders = auto.cylinders.astype('category')\n",
        "\n",
        "type(auto.model_year)\n"
      ],
      "execution_count": 0,
      "outputs": [
        {
          "output_type": "execute_result",
          "data": {
            "text/plain": [
              "pandas.core.series.Series"
            ]
          },
          "metadata": {
            "tags": []
          },
          "execution_count": 9
        }
      ]
    },
    {
      "cell_type": "code",
      "metadata": {
        "id": "cqI_xKVQMxUw",
        "colab_type": "code",
        "outputId": "7a36d1eb-167c-4188-d441-46b680a6dd11",
        "colab": {
          "base_uri": "https://localhost:8080/",
          "height": 255
        }
      },
      "source": [
        "auto.info()"
      ],
      "execution_count": 0,
      "outputs": [
        {
          "output_type": "stream",
          "text": [
            "<class 'pandas.core.frame.DataFrame'>\n",
            "RangeIndex: 398 entries, 0 to 397\n",
            "Data columns (total 9 columns):\n",
            "No              398 non-null int64\n",
            "mpg             398 non-null float64\n",
            "cylinders       398 non-null category\n",
            "displacement    398 non-null float64\n",
            "horsepower      398 non-null int64\n",
            "weight          398 non-null int64\n",
            "acceleration    398 non-null float64\n",
            "model_year      398 non-null category\n",
            "car_name        398 non-null object\n",
            "dtypes: category(2), float64(3), int64(3), object(1)\n",
            "memory usage: 23.5+ KB\n"
          ],
          "name": "stdout"
        }
      ]
    },
    {
      "cell_type": "code",
      "metadata": {
        "id": "VR1r1FHhOgIv",
        "colab_type": "code",
        "colab": {}
      },
      "source": [
        ""
      ],
      "execution_count": 0,
      "outputs": []
    },
    {
      "cell_type": "markdown",
      "metadata": {
        "id": "OpRufVUIOgvj",
        "colab_type": "text"
      },
      "source": [
        "**Analisis descriptivo**\n",
        "___"
      ]
    },
    {
      "cell_type": "code",
      "metadata": {
        "id": "K_wJQA8VOo7s",
        "colab_type": "code",
        "outputId": "ad746be0-dedd-4371-be69-70ba8d7734a4",
        "colab": {
          "base_uri": "https://localhost:8080/",
          "height": 297
        }
      },
      "source": [
        "# summary en R\n",
        "round(auto.describe(), 2)"
      ],
      "execution_count": 0,
      "outputs": [
        {
          "output_type": "execute_result",
          "data": {
            "text/html": [
              "<div>\n",
              "<style scoped>\n",
              "    .dataframe tbody tr th:only-of-type {\n",
              "        vertical-align: middle;\n",
              "    }\n",
              "\n",
              "    .dataframe tbody tr th {\n",
              "        vertical-align: top;\n",
              "    }\n",
              "\n",
              "    .dataframe thead th {\n",
              "        text-align: right;\n",
              "    }\n",
              "</style>\n",
              "<table border=\"1\" class=\"dataframe\">\n",
              "  <thead>\n",
              "    <tr style=\"text-align: right;\">\n",
              "      <th></th>\n",
              "      <th>No</th>\n",
              "      <th>mpg</th>\n",
              "      <th>displacement</th>\n",
              "      <th>horsepower</th>\n",
              "      <th>weight</th>\n",
              "      <th>acceleration</th>\n",
              "    </tr>\n",
              "  </thead>\n",
              "  <tbody>\n",
              "    <tr>\n",
              "      <th>count</th>\n",
              "      <td>398.00</td>\n",
              "      <td>398.00</td>\n",
              "      <td>398.00</td>\n",
              "      <td>398.00</td>\n",
              "      <td>398.00</td>\n",
              "      <td>398.00</td>\n",
              "    </tr>\n",
              "    <tr>\n",
              "      <th>mean</th>\n",
              "      <td>199.50</td>\n",
              "      <td>23.51</td>\n",
              "      <td>193.43</td>\n",
              "      <td>104.13</td>\n",
              "      <td>2970.42</td>\n",
              "      <td>15.57</td>\n",
              "    </tr>\n",
              "    <tr>\n",
              "      <th>std</th>\n",
              "      <td>115.04</td>\n",
              "      <td>7.82</td>\n",
              "      <td>104.27</td>\n",
              "      <td>38.31</td>\n",
              "      <td>846.84</td>\n",
              "      <td>2.76</td>\n",
              "    </tr>\n",
              "    <tr>\n",
              "      <th>min</th>\n",
              "      <td>1.00</td>\n",
              "      <td>9.00</td>\n",
              "      <td>68.00</td>\n",
              "      <td>46.00</td>\n",
              "      <td>1613.00</td>\n",
              "      <td>8.00</td>\n",
              "    </tr>\n",
              "    <tr>\n",
              "      <th>25%</th>\n",
              "      <td>100.25</td>\n",
              "      <td>17.50</td>\n",
              "      <td>104.25</td>\n",
              "      <td>76.00</td>\n",
              "      <td>2223.75</td>\n",
              "      <td>13.82</td>\n",
              "    </tr>\n",
              "    <tr>\n",
              "      <th>50%</th>\n",
              "      <td>199.50</td>\n",
              "      <td>23.00</td>\n",
              "      <td>148.50</td>\n",
              "      <td>92.00</td>\n",
              "      <td>2803.50</td>\n",
              "      <td>15.50</td>\n",
              "    </tr>\n",
              "    <tr>\n",
              "      <th>75%</th>\n",
              "      <td>298.75</td>\n",
              "      <td>29.00</td>\n",
              "      <td>262.00</td>\n",
              "      <td>125.00</td>\n",
              "      <td>3608.00</td>\n",
              "      <td>17.17</td>\n",
              "    </tr>\n",
              "    <tr>\n",
              "      <th>max</th>\n",
              "      <td>398.00</td>\n",
              "      <td>46.60</td>\n",
              "      <td>455.00</td>\n",
              "      <td>230.00</td>\n",
              "      <td>5140.00</td>\n",
              "      <td>24.80</td>\n",
              "    </tr>\n",
              "  </tbody>\n",
              "</table>\n",
              "</div>"
            ],
            "text/plain": [
              "           No     mpg  displacement  horsepower   weight  acceleration\n",
              "count  398.00  398.00        398.00      398.00   398.00        398.00\n",
              "mean   199.50   23.51        193.43      104.13  2970.42         15.57\n",
              "std    115.04    7.82        104.27       38.31   846.84          2.76\n",
              "min      1.00    9.00         68.00       46.00  1613.00          8.00\n",
              "25%    100.25   17.50        104.25       76.00  2223.75         13.82\n",
              "50%    199.50   23.00        148.50       92.00  2803.50         15.50\n",
              "75%    298.75   29.00        262.00      125.00  3608.00         17.17\n",
              "max    398.00   46.60        455.00      230.00  5140.00         24.80"
            ]
          },
          "metadata": {
            "tags": []
          },
          "execution_count": 25
        }
      ]
    },
    {
      "cell_type": "markdown",
      "metadata": {
        "id": "P2I8ES6pQaCf",
        "colab_type": "text"
      },
      "source": [
        "**Filtros**\n",
        "\n",
        "loc & iloc\n",
        "fltros sobre texto y filtro sobre indices\n"
      ]
    },
    {
      "cell_type": "code",
      "metadata": {
        "id": "X3uVqQ09QYqs",
        "colab_type": "code",
        "outputId": "4096a327-6b67-46b0-d505-acfea945d86b",
        "colab": {
          "base_uri": "https://localhost:8080/",
          "height": 187
        }
      },
      "source": [
        "# filtros por indices\n",
        "auto.iloc[3,]"
      ],
      "execution_count": 0,
      "outputs": [
        {
          "output_type": "execute_result",
          "data": {
            "text/plain": [
              "No                            4\n",
              "mpg                          28\n",
              "cylinders                     4\n",
              "displacement                 97\n",
              "horsepower                   92\n",
              "weight                     2288\n",
              "acceleration                 17\n",
              "model_year                   72\n",
              "car_name        datsun 510 (sw)\n",
              "Name: 3, dtype: object"
            ]
          },
          "metadata": {
            "tags": []
          },
          "execution_count": 16
        }
      ]
    },
    {
      "cell_type": "code",
      "metadata": {
        "id": "dg-7PcgJQ6k6",
        "colab_type": "code",
        "colab": {}
      },
      "source": [
        "# para extraer toda la columa\n",
        "auto.loc[mpg]"
      ],
      "execution_count": 0,
      "outputs": []
    },
    {
      "cell_type": "code",
      "metadata": {
        "id": "8EvLWpqHRXWd",
        "colab_type": "code",
        "outputId": "629f9ecc-c4ec-45e7-8045-78fe89f6aad5",
        "colab": {
          "base_uri": "https://localhost:8080/",
          "height": 204
        }
      },
      "source": [
        "# filtar por carros de 4 y 6 cylindros\n",
        "\n",
        "auto.loc[auto.cylinders == 4 ].head()"
      ],
      "execution_count": 0,
      "outputs": [
        {
          "output_type": "execute_result",
          "data": {
            "text/html": [
              "<div>\n",
              "<style scoped>\n",
              "    .dataframe tbody tr th:only-of-type {\n",
              "        vertical-align: middle;\n",
              "    }\n",
              "\n",
              "    .dataframe tbody tr th {\n",
              "        vertical-align: top;\n",
              "    }\n",
              "\n",
              "    .dataframe thead th {\n",
              "        text-align: right;\n",
              "    }\n",
              "</style>\n",
              "<table border=\"1\" class=\"dataframe\">\n",
              "  <thead>\n",
              "    <tr style=\"text-align: right;\">\n",
              "      <th></th>\n",
              "      <th>No</th>\n",
              "      <th>mpg</th>\n",
              "      <th>cylinders</th>\n",
              "      <th>displacement</th>\n",
              "      <th>horsepower</th>\n",
              "      <th>weight</th>\n",
              "      <th>acceleration</th>\n",
              "      <th>model_year</th>\n",
              "      <th>car_name</th>\n",
              "    </tr>\n",
              "  </thead>\n",
              "  <tbody>\n",
              "    <tr>\n",
              "      <th>0</th>\n",
              "      <td>1</td>\n",
              "      <td>28.0</td>\n",
              "      <td>4</td>\n",
              "      <td>140.0</td>\n",
              "      <td>90</td>\n",
              "      <td>2264</td>\n",
              "      <td>15.5</td>\n",
              "      <td>71</td>\n",
              "      <td>chevrolet vega 2300</td>\n",
              "    </tr>\n",
              "    <tr>\n",
              "      <th>2</th>\n",
              "      <td>3</td>\n",
              "      <td>36.0</td>\n",
              "      <td>4</td>\n",
              "      <td>107.0</td>\n",
              "      <td>75</td>\n",
              "      <td>2205</td>\n",
              "      <td>14.5</td>\n",
              "      <td>82</td>\n",
              "      <td>honda accord</td>\n",
              "    </tr>\n",
              "    <tr>\n",
              "      <th>3</th>\n",
              "      <td>4</td>\n",
              "      <td>28.0</td>\n",
              "      <td>4</td>\n",
              "      <td>97.0</td>\n",
              "      <td>92</td>\n",
              "      <td>2288</td>\n",
              "      <td>17.0</td>\n",
              "      <td>72</td>\n",
              "      <td>datsun 510 (sw)</td>\n",
              "    </tr>\n",
              "    <tr>\n",
              "      <th>5</th>\n",
              "      <td>6</td>\n",
              "      <td>23.0</td>\n",
              "      <td>4</td>\n",
              "      <td>115.0</td>\n",
              "      <td>95</td>\n",
              "      <td>2694</td>\n",
              "      <td>15.0</td>\n",
              "      <td>75</td>\n",
              "      <td>audi 100ls</td>\n",
              "    </tr>\n",
              "    <tr>\n",
              "      <th>7</th>\n",
              "      <td>8</td>\n",
              "      <td>32.9</td>\n",
              "      <td>4</td>\n",
              "      <td>119.0</td>\n",
              "      <td>100</td>\n",
              "      <td>2615</td>\n",
              "      <td>14.8</td>\n",
              "      <td>81</td>\n",
              "      <td>datsun 200sx</td>\n",
              "    </tr>\n",
              "  </tbody>\n",
              "</table>\n",
              "</div>"
            ],
            "text/plain": [
              "   No   mpg cylinders  ...  acceleration  model_year             car_name\n",
              "0   1  28.0         4  ...          15.5          71  chevrolet vega 2300\n",
              "2   3  36.0         4  ...          14.5          82         honda accord\n",
              "3   4  28.0         4  ...          17.0          72      datsun 510 (sw)\n",
              "5   6  23.0         4  ...          15.0          75           audi 100ls\n",
              "7   8  32.9         4  ...          14.8          81         datsun 200sx\n",
              "\n",
              "[5 rows x 9 columns]"
            ]
          },
          "metadata": {
            "tags": []
          },
          "execution_count": 27
        }
      ]
    }
  ]
}